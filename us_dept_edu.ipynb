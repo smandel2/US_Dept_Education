{
 "cells": [
  {
   "cell_type": "code",
   "execution_count": 89,
   "metadata": {},
   "outputs": [],
   "source": [
    "import pandas as pd\n",
    "import json\n",
    "import requests\n",
    "import matplotlib.pyplot as plt\n",
    "from sklearn.linear_model import LinearRegression, Lasso\n",
    "from sklearn.model_selection import train_test_split, cross_val_score, cross_val_predict, GridSearchCV\n",
    "from sklearn.metrics import r2_score\n",
    "%matplotlib inline\n",
    "import seaborn as sns\n",
    "import numpy as np\n",
    "from sklearn.ensemble import RandomForestRegressor\n",
    "from sklearn.preprocessing import StandardScaler\n",
    "from keras.models import Sequential\n",
    "from keras.layers import Dense\n",
    "\n",
    "# api = requests.get('https://api.data.gov/ed/collegescorecard/v1/schools?fields=school.name,id,2013.aid.median_debt.completers.overall,2013.repayment.1_yr_repayment.completers,2013.earnings.10_yrs_after_entry.working_not_enrolled.mean_earnings&per_page=100&api_key=GKtiUO1wWhMNii4ZH4C0tfeZbGmmfscKhv2amMvs')\n",
    "# this is my api key"
   ]
  },
  {
   "cell_type": "code",
   "execution_count": 2,
   "metadata": {},
   "outputs": [
    {
     "name": "stdout",
     "output_type": "stream",
     "text": [
      "Project4_api_data-Copy1.ipynb\r\n",
      "Project4_api_data.ipynb\r\n",
      "Project_4_11.24.17.ipynb\r\n",
      "Project_4_11.25.17-Continue.ipynb\r\n",
      "Project_4_11.25.17.ipynb\r\n",
      "Project_4_11.26.17-Continue.ipynb\r\n",
      "Project_4_11.27.17-Continue-Copy1.ipynb\r\n",
      "Project_4_11.27.17-Redo-try more features.ipynb\r\n",
      "Project_4_11.27.17-Redo.ipynb\r\n",
      "Project_4_11.28.17.ipynb\r\n",
      "Project_4_11.29.17.ipynb\r\n",
      "Project_4_keerthy-Copy1.ipynb\r\n",
      "Project_4_keerthy.ipynb\r\n",
      "df.csv\r\n",
      "new_file\r\n"
     ]
    }
   ],
   "source": [
    "%ls"
   ]
  },
  {
   "cell_type": "code",
   "execution_count": 3,
   "metadata": {
    "collapsed": true
   },
   "outputs": [],
   "source": [
    "left_half = 'https://api.data.gov/ed/collegescorecard/v1/schools?school.degrees_awarded.predominant=3&fields=school.name,id,2015.student.enrollment.all,2015.repayment.3_yr_default_rate,2015.student.share_dependent_middleincome.300001_48000,2015.student.demographics.median_family_income,2015.cost.attendance.academic_year,2015.student.share_dependent_middleincome.48001_75000,2015.student.share_dependent_highincome.75001_110000,2015.student.share_dependent_highincome.110001plus,2015.admissions.sat_scores.average.overall,2015.cost.avg_net_price.public,2015.cost.avg_net_price.private,2015.admissions.admission_rate.by_ope_id,2015.admissions.admission_rate.overall,2015.completion.completion_rate_4yr_100nt,2015.aid.median_debt.completers.overall,2015.student.demographics.median_family_income,2015.aid.median_debt.number.completers,2015.aid.median_debt.number.noncompleters,2015.aid.median_debt.number.pell_grant,2015.aid.median_debt.number.no_pell_grant,2015.repayment.3_yr_repayment.female_students,2015.repayment.3_yr_repayment.male_students&page='\n",
    "# left_half = 'https://api.data.gov/ed/collegescorecard/v1/schools?fields=2015.aid.median_debt.completers.overall,2015.repayment.3_yr_repayment.completers,2015.repayment.5_yr_repayment.completers,2015.student.demographics.median_family_income,2015.repayment.3_yr_default_rate_denom,2015.aid.median_debt.number.completers,2015.aid.median_debt.number.noncompleters,2015.aid.median_debt.number.pell_grant,2015.aid.median_debt.number.no_pell_grant,2015.repayment.3_yr_repayment.female_students,2015.repayment.3_yr_repayment.male_students&page='\n",
    "right_half = '&per_page=100&api_key=iWpmbz9Bzlap6R3TCn5prVHlLXnIgeQC7xArrHQu'\n",
    "#right_half = '&per_page=100&api_key=azpzcNd2tDpvmj1ulrXQ7OtNr2aO9WS20qzUBAt2'"
   ]
  },
  {
   "cell_type": "code",
   "execution_count": 4,
   "metadata": {
    "collapsed": true
   },
   "outputs": [],
   "source": [
    "# Pull down the data from the API with the above for loop. Going forward, use the csv file saved below.\n",
    "\n",
    "lst = []\n",
    "\n",
    "for i in range(76):\n",
    "    url = left_half + str(i) + right_half\n",
    "#     print(url)\n",
    "    rs = requests.get(url)\n",
    "    rsj = rs.json()\n",
    "    lst.append(rsj)"
   ]
  },
  {
   "cell_type": "code",
   "execution_count": 5,
   "metadata": {},
   "outputs": [
    {
     "data": {
      "text/plain": [
       "(2109, 23)"
      ]
     },
     "execution_count": 5,
     "metadata": {},
     "output_type": "execute_result"
    }
   ],
   "source": [
    "# Convert to Dataframe\n",
    "\n",
    "df = pd.DataFrame()\n",
    "\n",
    "for a in range(0,len(lst)):\n",
    "    df2 = pd.DataFrame(lst[a]['results'])\n",
    "    df = df.append(df2)\n",
    "df.shape"
   ]
  },
  {
   "cell_type": "code",
   "execution_count": 8,
   "metadata": {
    "collapsed": true
   },
   "outputs": [],
   "source": [
    "# df.to_csv('df.csv', index=False)"
   ]
  },
  {
   "cell_type": "code",
   "execution_count": 9,
   "metadata": {
    "collapsed": true
   },
   "outputs": [],
   "source": [
    " df = pd.read_csv('df.csv')#.drop('Unnamed: 0', axis=1)"
   ]
  },
  {
   "cell_type": "code",
   "execution_count": 10,
   "metadata": {},
   "outputs": [
    {
     "data": {
      "text/html": [
       "<div>\n",
       "<style>\n",
       "    .dataframe thead tr:only-child th {\n",
       "        text-align: right;\n",
       "    }\n",
       "\n",
       "    .dataframe thead th {\n",
       "        text-align: left;\n",
       "    }\n",
       "\n",
       "    .dataframe tbody tr th {\n",
       "        vertical-align: top;\n",
       "    }\n",
       "</style>\n",
       "<table border=\"1\" class=\"dataframe\">\n",
       "  <thead>\n",
       "    <tr style=\"text-align: right;\">\n",
       "      <th></th>\n",
       "      <th>2015.admissions.admission_rate.by_ope_id</th>\n",
       "      <th>2015.admissions.admission_rate.overall</th>\n",
       "      <th>2015.admissions.sat_scores.average.overall</th>\n",
       "      <th>2015.aid.median_debt.completers.overall</th>\n",
       "      <th>2015.aid.median_debt.number.completers</th>\n",
       "      <th>2015.aid.median_debt.number.no_pell_grant</th>\n",
       "      <th>2015.aid.median_debt.number.noncompleters</th>\n",
       "      <th>2015.aid.median_debt.number.pell_grant</th>\n",
       "      <th>2015.completion.completion_rate_4yr_100nt</th>\n",
       "      <th>2015.cost.attendance.academic_year</th>\n",
       "      <th>...</th>\n",
       "      <th>2015.repayment.3_yr_repayment.female_students</th>\n",
       "      <th>2015.repayment.3_yr_repayment.male_students</th>\n",
       "      <th>2015.student.demographics.median_family_income</th>\n",
       "      <th>2015.student.enrollment.all</th>\n",
       "      <th>2015.student.share_dependent_highincome.110001plus</th>\n",
       "      <th>2015.student.share_dependent_highincome.75001_110000</th>\n",
       "      <th>2015.student.share_dependent_middleincome.300001_48000</th>\n",
       "      <th>2015.student.share_dependent_middleincome.48001_75000</th>\n",
       "      <th>id</th>\n",
       "      <th>school.name</th>\n",
       "    </tr>\n",
       "  </thead>\n",
       "  <tbody>\n",
       "    <tr>\n",
       "      <th>0</th>\n",
       "      <td>0.583180</td>\n",
       "      <td>0.5832</td>\n",
       "      <td>1226.0</td>\n",
       "      <td>24000.0</td>\n",
       "      <td>4349.0</td>\n",
       "      <td>5557.0</td>\n",
       "      <td>5635.0</td>\n",
       "      <td>4386.0</td>\n",
       "      <td>0.6583</td>\n",
       "      <td>26726.0</td>\n",
       "      <td>...</td>\n",
       "      <td>4445.0</td>\n",
       "      <td>4390.0</td>\n",
       "      <td>74146.0</td>\n",
       "      <td>NaN</td>\n",
       "      <td>0.390147</td>\n",
       "      <td>0.171849</td>\n",
       "      <td>0.116059</td>\n",
       "      <td>0.151631</td>\n",
       "      <td>166629</td>\n",
       "      <td>University of Massachusetts-Amherst</td>\n",
       "    </tr>\n",
       "    <tr>\n",
       "      <th>1</th>\n",
       "      <td>0.747752</td>\n",
       "      <td>0.7478</td>\n",
       "      <td>1029.0</td>\n",
       "      <td>25500.0</td>\n",
       "      <td>4227.0</td>\n",
       "      <td>3151.0</td>\n",
       "      <td>6205.0</td>\n",
       "      <td>7204.0</td>\n",
       "      <td>0.1311</td>\n",
       "      <td>19570.0</td>\n",
       "      <td>...</td>\n",
       "      <td>5685.0</td>\n",
       "      <td>4073.0</td>\n",
       "      <td>36618.0</td>\n",
       "      <td>NaN</td>\n",
       "      <td>0.169433</td>\n",
       "      <td>0.173944</td>\n",
       "      <td>0.157524</td>\n",
       "      <td>0.177914</td>\n",
       "      <td>169798</td>\n",
       "      <td>Eastern Michigan University</td>\n",
       "    </tr>\n",
       "    <tr>\n",
       "      <th>2</th>\n",
       "      <td>0.567874</td>\n",
       "      <td>0.5679</td>\n",
       "      <td>1197.0</td>\n",
       "      <td>25000.0</td>\n",
       "      <td>3314.0</td>\n",
       "      <td>3222.0</td>\n",
       "      <td>3695.0</td>\n",
       "      <td>3740.0</td>\n",
       "      <td>0.3102</td>\n",
       "      <td>24804.0</td>\n",
       "      <td>...</td>\n",
       "      <td>2076.0</td>\n",
       "      <td>2769.0</td>\n",
       "      <td>53644.0</td>\n",
       "      <td>NaN</td>\n",
       "      <td>0.336439</td>\n",
       "      <td>0.174841</td>\n",
       "      <td>0.129966</td>\n",
       "      <td>0.145905</td>\n",
       "      <td>166513</td>\n",
       "      <td>University of Massachusetts-Lowell</td>\n",
       "    </tr>\n",
       "    <tr>\n",
       "      <th>3</th>\n",
       "      <td>0.762614</td>\n",
       "      <td>0.7626</td>\n",
       "      <td>1025.0</td>\n",
       "      <td>25760.0</td>\n",
       "      <td>1934.0</td>\n",
       "      <td>1778.0</td>\n",
       "      <td>2266.0</td>\n",
       "      <td>2405.0</td>\n",
       "      <td>0.2775</td>\n",
       "      <td>24539.0</td>\n",
       "      <td>...</td>\n",
       "      <td>1896.0</td>\n",
       "      <td>2056.0</td>\n",
       "      <td>48473.0</td>\n",
       "      <td>NaN</td>\n",
       "      <td>0.231663</td>\n",
       "      <td>0.167275</td>\n",
       "      <td>0.152340</td>\n",
       "      <td>0.176900</td>\n",
       "      <td>167987</td>\n",
       "      <td>University of Massachusetts-Dartmouth</td>\n",
       "    </tr>\n",
       "    <tr>\n",
       "      <th>4</th>\n",
       "      <td>0.641537</td>\n",
       "      <td>0.6415</td>\n",
       "      <td>1042.0</td>\n",
       "      <td>24500.0</td>\n",
       "      <td>1533.0</td>\n",
       "      <td>959.0</td>\n",
       "      <td>1168.0</td>\n",
       "      <td>1719.0</td>\n",
       "      <td>0.6263</td>\n",
       "      <td>47322.0</td>\n",
       "      <td>...</td>\n",
       "      <td>1701.0</td>\n",
       "      <td>863.0</td>\n",
       "      <td>42388.0</td>\n",
       "      <td>NaN</td>\n",
       "      <td>0.381801</td>\n",
       "      <td>0.231707</td>\n",
       "      <td>0.104128</td>\n",
       "      <td>0.145403</td>\n",
       "      <td>167899</td>\n",
       "      <td>Springfield College</td>\n",
       "    </tr>\n",
       "  </tbody>\n",
       "</table>\n",
       "<p>5 rows × 23 columns</p>\n",
       "</div>"
      ],
      "text/plain": [
       "   2015.admissions.admission_rate.by_ope_id  \\\n",
       "0                                  0.583180   \n",
       "1                                  0.747752   \n",
       "2                                  0.567874   \n",
       "3                                  0.762614   \n",
       "4                                  0.641537   \n",
       "\n",
       "   2015.admissions.admission_rate.overall  \\\n",
       "0                                  0.5832   \n",
       "1                                  0.7478   \n",
       "2                                  0.5679   \n",
       "3                                  0.7626   \n",
       "4                                  0.6415   \n",
       "\n",
       "   2015.admissions.sat_scores.average.overall  \\\n",
       "0                                      1226.0   \n",
       "1                                      1029.0   \n",
       "2                                      1197.0   \n",
       "3                                      1025.0   \n",
       "4                                      1042.0   \n",
       "\n",
       "   2015.aid.median_debt.completers.overall  \\\n",
       "0                                  24000.0   \n",
       "1                                  25500.0   \n",
       "2                                  25000.0   \n",
       "3                                  25760.0   \n",
       "4                                  24500.0   \n",
       "\n",
       "   2015.aid.median_debt.number.completers  \\\n",
       "0                                  4349.0   \n",
       "1                                  4227.0   \n",
       "2                                  3314.0   \n",
       "3                                  1934.0   \n",
       "4                                  1533.0   \n",
       "\n",
       "   2015.aid.median_debt.number.no_pell_grant  \\\n",
       "0                                     5557.0   \n",
       "1                                     3151.0   \n",
       "2                                     3222.0   \n",
       "3                                     1778.0   \n",
       "4                                      959.0   \n",
       "\n",
       "   2015.aid.median_debt.number.noncompleters  \\\n",
       "0                                     5635.0   \n",
       "1                                     6205.0   \n",
       "2                                     3695.0   \n",
       "3                                     2266.0   \n",
       "4                                     1168.0   \n",
       "\n",
       "   2015.aid.median_debt.number.pell_grant  \\\n",
       "0                                  4386.0   \n",
       "1                                  7204.0   \n",
       "2                                  3740.0   \n",
       "3                                  2405.0   \n",
       "4                                  1719.0   \n",
       "\n",
       "   2015.completion.completion_rate_4yr_100nt  \\\n",
       "0                                     0.6583   \n",
       "1                                     0.1311   \n",
       "2                                     0.3102   \n",
       "3                                     0.2775   \n",
       "4                                     0.6263   \n",
       "\n",
       "   2015.cost.attendance.academic_year                  ...                    \\\n",
       "0                             26726.0                  ...                     \n",
       "1                             19570.0                  ...                     \n",
       "2                             24804.0                  ...                     \n",
       "3                             24539.0                  ...                     \n",
       "4                             47322.0                  ...                     \n",
       "\n",
       "   2015.repayment.3_yr_repayment.female_students  \\\n",
       "0                                         4445.0   \n",
       "1                                         5685.0   \n",
       "2                                         2076.0   \n",
       "3                                         1896.0   \n",
       "4                                         1701.0   \n",
       "\n",
       "   2015.repayment.3_yr_repayment.male_students  \\\n",
       "0                                       4390.0   \n",
       "1                                       4073.0   \n",
       "2                                       2769.0   \n",
       "3                                       2056.0   \n",
       "4                                        863.0   \n",
       "\n",
       "   2015.student.demographics.median_family_income  \\\n",
       "0                                         74146.0   \n",
       "1                                         36618.0   \n",
       "2                                         53644.0   \n",
       "3                                         48473.0   \n",
       "4                                         42388.0   \n",
       "\n",
       "   2015.student.enrollment.all  \\\n",
       "0                          NaN   \n",
       "1                          NaN   \n",
       "2                          NaN   \n",
       "3                          NaN   \n",
       "4                          NaN   \n",
       "\n",
       "   2015.student.share_dependent_highincome.110001plus  \\\n",
       "0                                           0.390147    \n",
       "1                                           0.169433    \n",
       "2                                           0.336439    \n",
       "3                                           0.231663    \n",
       "4                                           0.381801    \n",
       "\n",
       "   2015.student.share_dependent_highincome.75001_110000  \\\n",
       "0                                           0.171849      \n",
       "1                                           0.173944      \n",
       "2                                           0.174841      \n",
       "3                                           0.167275      \n",
       "4                                           0.231707      \n",
       "\n",
       "   2015.student.share_dependent_middleincome.300001_48000  \\\n",
       "0                                           0.116059        \n",
       "1                                           0.157524        \n",
       "2                                           0.129966        \n",
       "3                                           0.152340        \n",
       "4                                           0.104128        \n",
       "\n",
       "   2015.student.share_dependent_middleincome.48001_75000      id  \\\n",
       "0                                           0.151631      166629   \n",
       "1                                           0.177914      169798   \n",
       "2                                           0.145905      166513   \n",
       "3                                           0.176900      167987   \n",
       "4                                           0.145403      167899   \n",
       "\n",
       "                             school.name  \n",
       "0    University of Massachusetts-Amherst  \n",
       "1            Eastern Michigan University  \n",
       "2     University of Massachusetts-Lowell  \n",
       "3  University of Massachusetts-Dartmouth  \n",
       "4                    Springfield College  \n",
       "\n",
       "[5 rows x 23 columns]"
      ]
     },
     "execution_count": 10,
     "metadata": {},
     "output_type": "execute_result"
    }
   ],
   "source": [
    "df.head()"
   ]
  },
  {
   "cell_type": "code",
   "execution_count": 11,
   "metadata": {},
   "outputs": [
    {
     "data": {
      "text/plain": [
       "Index(['2015.admissions.admission_rate.by_ope_id',\n",
       "       '2015.admissions.admission_rate.overall',\n",
       "       '2015.admissions.sat_scores.average.overall',\n",
       "       '2015.aid.median_debt.completers.overall',\n",
       "       '2015.aid.median_debt.number.completers',\n",
       "       '2015.aid.median_debt.number.no_pell_grant',\n",
       "       '2015.aid.median_debt.number.noncompleters',\n",
       "       '2015.aid.median_debt.number.pell_grant',\n",
       "       '2015.completion.completion_rate_4yr_100nt',\n",
       "       '2015.cost.attendance.academic_year', '2015.cost.avg_net_price.private',\n",
       "       '2015.cost.avg_net_price.public', '2015.repayment.3_yr_default_rate',\n",
       "       '2015.repayment.3_yr_repayment.female_students',\n",
       "       '2015.repayment.3_yr_repayment.male_students',\n",
       "       '2015.student.demographics.median_family_income',\n",
       "       '2015.student.enrollment.all',\n",
       "       '2015.student.share_dependent_highincome.110001plus',\n",
       "       '2015.student.share_dependent_highincome.75001_110000',\n",
       "       '2015.student.share_dependent_middleincome.300001_48000',\n",
       "       '2015.student.share_dependent_middleincome.48001_75000', 'id',\n",
       "       'school.name'],\n",
       "      dtype='object')"
      ]
     },
     "execution_count": 11,
     "metadata": {},
     "output_type": "execute_result"
    }
   ],
   "source": [
    "df.columns"
   ]
  },
  {
   "cell_type": "code",
   "execution_count": 12,
   "metadata": {
    "collapsed": true
   },
   "outputs": [],
   "source": [
    "# Create list of column names to rename\n",
    "renameLst = ['admissions.admission_rate.by_ope_id',\n",
    "       'admissions.admission_rate.overall',\n",
    "       'admissions.sat_scores.average.overall',\n",
    "       'aid.median_debt.completers.overall',\n",
    "       'aid.median_debt.number.completers',\n",
    "       'aid.median_debt.number.no_pell_grant',\n",
    "       'aid.median_debt.number.noncompleters',\n",
    "       'aid.median_debt.number.pell_grant',\n",
    "       'completion.completion_rate_4yr_100nt',\n",
    "       'cost.attendance.academic_year', \n",
    "       'cost.avg_net_price.private',\n",
    "       'cost.avg_net_price.public', \n",
    "       'repayment.3_yr_default_rate',\n",
    "       'repayment.3_yr_repayment.female_students',\n",
    "       'repayment.3_yr_repayment.male_students',\n",
    "       'student.demographics.median_family_income',\n",
    "       'student.enrollment.all',\n",
    "       'student.share_dependent_highincome.110001plus',\n",
    "       'student.share_dependent_highincome.75001_110000',\n",
    "       'student.share_dependent_middleincome.300001_48000',\n",
    "       'student.share_dependent_middleincome.48001_75000', \n",
    "       'id',\n",
    "       'school.name']"
   ]
  },
  {
   "cell_type": "code",
   "execution_count": 13,
   "metadata": {},
   "outputs": [
    {
     "name": "stdout",
     "output_type": "stream",
     "text": [
      "['admissions admission_rate by_ope_id', 'admissions admission_rate overall', 'admissions sat_scores average overall', 'aid median_debt completers overall', 'aid median_debt number completers', 'aid median_debt number no_pell_grant', 'aid median_debt number noncompleters', 'aid median_debt number pell_grant', 'completion completion_rate_4yr_100nt', 'cost attendance academic_year', 'cost avg_net_price private', 'cost avg_net_price public', 'repayment 3_yr_default_rate', 'repayment 3_yr_repayment female_students', 'repayment 3_yr_repayment male_students', 'student demographics median_family_income', 'student enrollment all', 'student share_dependent_highincome 110001plus', 'student share_dependent_highincome 75001_110000', 'student share_dependent_middleincome 300001_48000', 'student share_dependent_middleincome 48001_75000', 'id', 'school name']\n"
     ]
    }
   ],
   "source": [
    " for i, val in enumerate(renameLst):\n",
    "        renameLst[i] = val.replace('.',' ')\n",
    "print(renameLst)"
   ]
  },
  {
   "cell_type": "code",
   "execution_count": 14,
   "metadata": {
    "collapsed": true
   },
   "outputs": [],
   "source": [
    "df.columns = renameLst"
   ]
  },
  {
   "cell_type": "code",
   "execution_count": 15,
   "metadata": {},
   "outputs": [
    {
     "data": {
      "text/html": [
       "<div>\n",
       "<style>\n",
       "    .dataframe thead tr:only-child th {\n",
       "        text-align: right;\n",
       "    }\n",
       "\n",
       "    .dataframe thead th {\n",
       "        text-align: left;\n",
       "    }\n",
       "\n",
       "    .dataframe tbody tr th {\n",
       "        vertical-align: top;\n",
       "    }\n",
       "</style>\n",
       "<table border=\"1\" class=\"dataframe\">\n",
       "  <thead>\n",
       "    <tr style=\"text-align: right;\">\n",
       "      <th></th>\n",
       "      <th>admissions admission_rate by_ope_id</th>\n",
       "      <th>admissions admission_rate overall</th>\n",
       "      <th>admissions sat_scores average overall</th>\n",
       "      <th>aid median_debt completers overall</th>\n",
       "      <th>aid median_debt number completers</th>\n",
       "      <th>aid median_debt number no_pell_grant</th>\n",
       "      <th>aid median_debt number noncompleters</th>\n",
       "      <th>aid median_debt number pell_grant</th>\n",
       "      <th>completion completion_rate_4yr_100nt</th>\n",
       "      <th>cost attendance academic_year</th>\n",
       "      <th>...</th>\n",
       "      <th>repayment 3_yr_repayment female_students</th>\n",
       "      <th>repayment 3_yr_repayment male_students</th>\n",
       "      <th>student demographics median_family_income</th>\n",
       "      <th>student enrollment all</th>\n",
       "      <th>student share_dependent_highincome 110001plus</th>\n",
       "      <th>student share_dependent_highincome 75001_110000</th>\n",
       "      <th>student share_dependent_middleincome 300001_48000</th>\n",
       "      <th>student share_dependent_middleincome 48001_75000</th>\n",
       "      <th>id</th>\n",
       "      <th>school name</th>\n",
       "    </tr>\n",
       "  </thead>\n",
       "  <tbody>\n",
       "    <tr>\n",
       "      <th>0</th>\n",
       "      <td>0.583180</td>\n",
       "      <td>0.5832</td>\n",
       "      <td>1226.0</td>\n",
       "      <td>24000.0</td>\n",
       "      <td>4349.0</td>\n",
       "      <td>5557.0</td>\n",
       "      <td>5635.0</td>\n",
       "      <td>4386.0</td>\n",
       "      <td>0.6583</td>\n",
       "      <td>26726.0</td>\n",
       "      <td>...</td>\n",
       "      <td>4445.0</td>\n",
       "      <td>4390.0</td>\n",
       "      <td>74146.0</td>\n",
       "      <td>NaN</td>\n",
       "      <td>0.390147</td>\n",
       "      <td>0.171849</td>\n",
       "      <td>0.116059</td>\n",
       "      <td>0.151631</td>\n",
       "      <td>166629</td>\n",
       "      <td>University of Massachusetts-Amherst</td>\n",
       "    </tr>\n",
       "    <tr>\n",
       "      <th>1</th>\n",
       "      <td>0.747752</td>\n",
       "      <td>0.7478</td>\n",
       "      <td>1029.0</td>\n",
       "      <td>25500.0</td>\n",
       "      <td>4227.0</td>\n",
       "      <td>3151.0</td>\n",
       "      <td>6205.0</td>\n",
       "      <td>7204.0</td>\n",
       "      <td>0.1311</td>\n",
       "      <td>19570.0</td>\n",
       "      <td>...</td>\n",
       "      <td>5685.0</td>\n",
       "      <td>4073.0</td>\n",
       "      <td>36618.0</td>\n",
       "      <td>NaN</td>\n",
       "      <td>0.169433</td>\n",
       "      <td>0.173944</td>\n",
       "      <td>0.157524</td>\n",
       "      <td>0.177914</td>\n",
       "      <td>169798</td>\n",
       "      <td>Eastern Michigan University</td>\n",
       "    </tr>\n",
       "    <tr>\n",
       "      <th>2</th>\n",
       "      <td>0.567874</td>\n",
       "      <td>0.5679</td>\n",
       "      <td>1197.0</td>\n",
       "      <td>25000.0</td>\n",
       "      <td>3314.0</td>\n",
       "      <td>3222.0</td>\n",
       "      <td>3695.0</td>\n",
       "      <td>3740.0</td>\n",
       "      <td>0.3102</td>\n",
       "      <td>24804.0</td>\n",
       "      <td>...</td>\n",
       "      <td>2076.0</td>\n",
       "      <td>2769.0</td>\n",
       "      <td>53644.0</td>\n",
       "      <td>NaN</td>\n",
       "      <td>0.336439</td>\n",
       "      <td>0.174841</td>\n",
       "      <td>0.129966</td>\n",
       "      <td>0.145905</td>\n",
       "      <td>166513</td>\n",
       "      <td>University of Massachusetts-Lowell</td>\n",
       "    </tr>\n",
       "    <tr>\n",
       "      <th>3</th>\n",
       "      <td>0.762614</td>\n",
       "      <td>0.7626</td>\n",
       "      <td>1025.0</td>\n",
       "      <td>25760.0</td>\n",
       "      <td>1934.0</td>\n",
       "      <td>1778.0</td>\n",
       "      <td>2266.0</td>\n",
       "      <td>2405.0</td>\n",
       "      <td>0.2775</td>\n",
       "      <td>24539.0</td>\n",
       "      <td>...</td>\n",
       "      <td>1896.0</td>\n",
       "      <td>2056.0</td>\n",
       "      <td>48473.0</td>\n",
       "      <td>NaN</td>\n",
       "      <td>0.231663</td>\n",
       "      <td>0.167275</td>\n",
       "      <td>0.152340</td>\n",
       "      <td>0.176900</td>\n",
       "      <td>167987</td>\n",
       "      <td>University of Massachusetts-Dartmouth</td>\n",
       "    </tr>\n",
       "    <tr>\n",
       "      <th>4</th>\n",
       "      <td>0.641537</td>\n",
       "      <td>0.6415</td>\n",
       "      <td>1042.0</td>\n",
       "      <td>24500.0</td>\n",
       "      <td>1533.0</td>\n",
       "      <td>959.0</td>\n",
       "      <td>1168.0</td>\n",
       "      <td>1719.0</td>\n",
       "      <td>0.6263</td>\n",
       "      <td>47322.0</td>\n",
       "      <td>...</td>\n",
       "      <td>1701.0</td>\n",
       "      <td>863.0</td>\n",
       "      <td>42388.0</td>\n",
       "      <td>NaN</td>\n",
       "      <td>0.381801</td>\n",
       "      <td>0.231707</td>\n",
       "      <td>0.104128</td>\n",
       "      <td>0.145403</td>\n",
       "      <td>167899</td>\n",
       "      <td>Springfield College</td>\n",
       "    </tr>\n",
       "  </tbody>\n",
       "</table>\n",
       "<p>5 rows × 23 columns</p>\n",
       "</div>"
      ],
      "text/plain": [
       "   admissions admission_rate by_ope_id  admissions admission_rate overall  \\\n",
       "0                             0.583180                             0.5832   \n",
       "1                             0.747752                             0.7478   \n",
       "2                             0.567874                             0.5679   \n",
       "3                             0.762614                             0.7626   \n",
       "4                             0.641537                             0.6415   \n",
       "\n",
       "   admissions sat_scores average overall  aid median_debt completers overall  \\\n",
       "0                                 1226.0                             24000.0   \n",
       "1                                 1029.0                             25500.0   \n",
       "2                                 1197.0                             25000.0   \n",
       "3                                 1025.0                             25760.0   \n",
       "4                                 1042.0                             24500.0   \n",
       "\n",
       "   aid median_debt number completers  aid median_debt number no_pell_grant  \\\n",
       "0                             4349.0                                5557.0   \n",
       "1                             4227.0                                3151.0   \n",
       "2                             3314.0                                3222.0   \n",
       "3                             1934.0                                1778.0   \n",
       "4                             1533.0                                 959.0   \n",
       "\n",
       "   aid median_debt number noncompleters  aid median_debt number pell_grant  \\\n",
       "0                                5635.0                             4386.0   \n",
       "1                                6205.0                             7204.0   \n",
       "2                                3695.0                             3740.0   \n",
       "3                                2266.0                             2405.0   \n",
       "4                                1168.0                             1719.0   \n",
       "\n",
       "   completion completion_rate_4yr_100nt  cost attendance academic_year  \\\n",
       "0                                0.6583                        26726.0   \n",
       "1                                0.1311                        19570.0   \n",
       "2                                0.3102                        24804.0   \n",
       "3                                0.2775                        24539.0   \n",
       "4                                0.6263                        47322.0   \n",
       "\n",
       "                   ...                    \\\n",
       "0                  ...                     \n",
       "1                  ...                     \n",
       "2                  ...                     \n",
       "3                  ...                     \n",
       "4                  ...                     \n",
       "\n",
       "   repayment 3_yr_repayment female_students  \\\n",
       "0                                    4445.0   \n",
       "1                                    5685.0   \n",
       "2                                    2076.0   \n",
       "3                                    1896.0   \n",
       "4                                    1701.0   \n",
       "\n",
       "   repayment 3_yr_repayment male_students  \\\n",
       "0                                  4390.0   \n",
       "1                                  4073.0   \n",
       "2                                  2769.0   \n",
       "3                                  2056.0   \n",
       "4                                   863.0   \n",
       "\n",
       "   student demographics median_family_income  student enrollment all  \\\n",
       "0                                    74146.0                     NaN   \n",
       "1                                    36618.0                     NaN   \n",
       "2                                    53644.0                     NaN   \n",
       "3                                    48473.0                     NaN   \n",
       "4                                    42388.0                     NaN   \n",
       "\n",
       "   student share_dependent_highincome 110001plus  \\\n",
       "0                                       0.390147   \n",
       "1                                       0.169433   \n",
       "2                                       0.336439   \n",
       "3                                       0.231663   \n",
       "4                                       0.381801   \n",
       "\n",
       "   student share_dependent_highincome 75001_110000  \\\n",
       "0                                         0.171849   \n",
       "1                                         0.173944   \n",
       "2                                         0.174841   \n",
       "3                                         0.167275   \n",
       "4                                         0.231707   \n",
       "\n",
       "   student share_dependent_middleincome 300001_48000  \\\n",
       "0                                           0.116059   \n",
       "1                                           0.157524   \n",
       "2                                           0.129966   \n",
       "3                                           0.152340   \n",
       "4                                           0.104128   \n",
       "\n",
       "   student share_dependent_middleincome 48001_75000      id  \\\n",
       "0                                          0.151631  166629   \n",
       "1                                          0.177914  169798   \n",
       "2                                          0.145905  166513   \n",
       "3                                          0.176900  167987   \n",
       "4                                          0.145403  167899   \n",
       "\n",
       "                             school name  \n",
       "0    University of Massachusetts-Amherst  \n",
       "1            Eastern Michigan University  \n",
       "2     University of Massachusetts-Lowell  \n",
       "3  University of Massachusetts-Dartmouth  \n",
       "4                    Springfield College  \n",
       "\n",
       "[5 rows x 23 columns]"
      ]
     },
     "execution_count": 15,
     "metadata": {},
     "output_type": "execute_result"
    }
   ],
   "source": [
    "df.head()"
   ]
  },
  {
   "cell_type": "markdown",
   "metadata": {},
   "source": [
    "# Data Cleaning"
   ]
  },
  {
   "cell_type": "code",
   "execution_count": 16,
   "metadata": {},
   "outputs": [
    {
     "data": {
      "text/plain": [
       "admissions admission_rate by_ope_id                  float64\n",
       "admissions admission_rate overall                    float64\n",
       "admissions sat_scores average overall                float64\n",
       "aid median_debt completers overall                   float64\n",
       "aid median_debt number completers                    float64\n",
       "aid median_debt number no_pell_grant                 float64\n",
       "aid median_debt number noncompleters                 float64\n",
       "aid median_debt number pell_grant                    float64\n",
       "completion completion_rate_4yr_100nt                 float64\n",
       "cost attendance academic_year                        float64\n",
       "cost avg_net_price private                           float64\n",
       "cost avg_net_price public                            float64\n",
       "repayment 3_yr_default_rate                          float64\n",
       "repayment 3_yr_repayment female_students             float64\n",
       "repayment 3_yr_repayment male_students               float64\n",
       "student demographics median_family_income            float64\n",
       "student enrollment all                               float64\n",
       "student share_dependent_highincome 110001plus        float64\n",
       "student share_dependent_highincome 75001_110000      float64\n",
       "student share_dependent_middleincome 300001_48000    float64\n",
       "student share_dependent_middleincome 48001_75000     float64\n",
       "id                                                     int64\n",
       "school name                                           object\n",
       "dtype: object"
      ]
     },
     "execution_count": 16,
     "metadata": {},
     "output_type": "execute_result"
    }
   ],
   "source": [
    "df.dtypes"
   ]
  },
  {
   "cell_type": "code",
   "execution_count": 17,
   "metadata": {
    "collapsed": true
   },
   "outputs": [],
   "source": [
    "#df.dropna(axis=0).shape # Use drop na and see what the shape is as a result."
   ]
  },
  {
   "cell_type": "code",
   "execution_count": 18,
   "metadata": {},
   "outputs": [
    {
     "data": {
      "text/plain": [
       "(2109, 23)"
      ]
     },
     "execution_count": 18,
     "metadata": {},
     "output_type": "execute_result"
    }
   ],
   "source": [
    "df.shape"
   ]
  },
  {
   "cell_type": "code",
   "execution_count": 19,
   "metadata": {},
   "outputs": [
    {
     "data": {
      "text/html": [
       "<div>\n",
       "<style>\n",
       "    .dataframe thead tr:only-child th {\n",
       "        text-align: right;\n",
       "    }\n",
       "\n",
       "    .dataframe thead th {\n",
       "        text-align: left;\n",
       "    }\n",
       "\n",
       "    .dataframe tbody tr th {\n",
       "        vertical-align: top;\n",
       "    }\n",
       "</style>\n",
       "<table border=\"1\" class=\"dataframe\">\n",
       "  <thead>\n",
       "    <tr style=\"text-align: right;\">\n",
       "      <th></th>\n",
       "      <th>admissions admission_rate by_ope_id</th>\n",
       "      <th>admissions admission_rate overall</th>\n",
       "      <th>admissions sat_scores average overall</th>\n",
       "      <th>aid median_debt completers overall</th>\n",
       "      <th>aid median_debt number completers</th>\n",
       "      <th>aid median_debt number no_pell_grant</th>\n",
       "      <th>aid median_debt number noncompleters</th>\n",
       "      <th>aid median_debt number pell_grant</th>\n",
       "      <th>completion completion_rate_4yr_100nt</th>\n",
       "      <th>cost attendance academic_year</th>\n",
       "      <th>...</th>\n",
       "      <th>repayment 3_yr_default_rate</th>\n",
       "      <th>repayment 3_yr_repayment female_students</th>\n",
       "      <th>repayment 3_yr_repayment male_students</th>\n",
       "      <th>student demographics median_family_income</th>\n",
       "      <th>student enrollment all</th>\n",
       "      <th>student share_dependent_highincome 110001plus</th>\n",
       "      <th>student share_dependent_highincome 75001_110000</th>\n",
       "      <th>student share_dependent_middleincome 300001_48000</th>\n",
       "      <th>student share_dependent_middleincome 48001_75000</th>\n",
       "      <th>id</th>\n",
       "    </tr>\n",
       "  </thead>\n",
       "  <tbody>\n",
       "    <tr>\n",
       "      <th>count</th>\n",
       "      <td>1694.000000</td>\n",
       "      <td>1663.000000</td>\n",
       "      <td>1230.000000</td>\n",
       "      <td>1945.000000</td>\n",
       "      <td>1965.000000</td>\n",
       "      <td>1959.000000</td>\n",
       "      <td>1965.000000</td>\n",
       "      <td>1959.000000</td>\n",
       "      <td>1929.000000</td>\n",
       "      <td>1930.000000</td>\n",
       "      <td>...</td>\n",
       "      <td>1990.000000</td>\n",
       "      <td>1930.000000</td>\n",
       "      <td>1930.000000</td>\n",
       "      <td>2084.000000</td>\n",
       "      <td>0.0</td>\n",
       "      <td>756.000000</td>\n",
       "      <td>777.000000</td>\n",
       "      <td>1333.000000</td>\n",
       "      <td>1170.000000</td>\n",
       "      <td>2109.000000</td>\n",
       "    </tr>\n",
       "    <tr>\n",
       "      <th>mean</th>\n",
       "      <td>0.661394</td>\n",
       "      <td>0.664378</td>\n",
       "      <td>1061.692683</td>\n",
       "      <td>24104.188689</td>\n",
       "      <td>2896.670229</td>\n",
       "      <td>1941.089842</td>\n",
       "      <td>5452.566412</td>\n",
       "      <td>6349.047473</td>\n",
       "      <td>0.342672</td>\n",
       "      <td>32494.789637</td>\n",
       "      <td>...</td>\n",
       "      <td>0.072763</td>\n",
       "      <td>7093.811917</td>\n",
       "      <td>3559.215026</td>\n",
       "      <td>43974.191939</td>\n",
       "      <td>NaN</td>\n",
       "      <td>0.177245</td>\n",
       "      <td>0.148932</td>\n",
       "      <td>0.158840</td>\n",
       "      <td>0.164808</td>\n",
       "      <td>224535.386913</td>\n",
       "    </tr>\n",
       "    <tr>\n",
       "      <th>std</th>\n",
       "      <td>0.197983</td>\n",
       "      <td>0.201778</td>\n",
       "      <td>135.371537</td>\n",
       "      <td>6052.420066</td>\n",
       "      <td>8256.402136</td>\n",
       "      <td>4241.192647</td>\n",
       "      <td>19759.871076</td>\n",
       "      <td>23555.852066</td>\n",
       "      <td>0.234754</td>\n",
       "      <td>13895.541755</td>\n",
       "      <td>...</td>\n",
       "      <td>0.051361</td>\n",
       "      <td>30878.907512</td>\n",
       "      <td>12687.384795</td>\n",
       "      <td>22594.816843</td>\n",
       "      <td>NaN</td>\n",
       "      <td>0.099985</td>\n",
       "      <td>0.053513</td>\n",
       "      <td>0.032102</td>\n",
       "      <td>0.034902</td>\n",
       "      <td>106003.859029</td>\n",
       "    </tr>\n",
       "    <tr>\n",
       "      <th>min</th>\n",
       "      <td>0.000000</td>\n",
       "      <td>0.000000</td>\n",
       "      <td>708.000000</td>\n",
       "      <td>1700.000000</td>\n",
       "      <td>10.000000</td>\n",
       "      <td>11.000000</td>\n",
       "      <td>10.000000</td>\n",
       "      <td>13.000000</td>\n",
       "      <td>0.000000</td>\n",
       "      <td>6748.000000</td>\n",
       "      <td>...</td>\n",
       "      <td>0.000000</td>\n",
       "      <td>10.000000</td>\n",
       "      <td>10.000000</td>\n",
       "      <td>0.000000</td>\n",
       "      <td>NaN</td>\n",
       "      <td>0.003576</td>\n",
       "      <td>0.015376</td>\n",
       "      <td>0.060201</td>\n",
       "      <td>0.034530</td>\n",
       "      <td>100654.000000</td>\n",
       "    </tr>\n",
       "    <tr>\n",
       "      <th>25%</th>\n",
       "      <td>0.540746</td>\n",
       "      <td>0.540550</td>\n",
       "      <td>976.000000</td>\n",
       "      <td>21148.000000</td>\n",
       "      <td>307.000000</td>\n",
       "      <td>245.000000</td>\n",
       "      <td>279.000000</td>\n",
       "      <td>343.500000</td>\n",
       "      <td>0.159100</td>\n",
       "      <td>21111.750000</td>\n",
       "      <td>...</td>\n",
       "      <td>0.035000</td>\n",
       "      <td>337.750000</td>\n",
       "      <td>239.000000</td>\n",
       "      <td>26423.750000</td>\n",
       "      <td>NaN</td>\n",
       "      <td>0.095343</td>\n",
       "      <td>0.105951</td>\n",
       "      <td>0.138114</td>\n",
       "      <td>0.146050</td>\n",
       "      <td>156541.000000</td>\n",
       "    </tr>\n",
       "    <tr>\n",
       "      <th>50%</th>\n",
       "      <td>0.678314</td>\n",
       "      <td>0.683400</td>\n",
       "      <td>1043.000000</td>\n",
       "      <td>25000.000000</td>\n",
       "      <td>688.000000</td>\n",
       "      <td>561.000000</td>\n",
       "      <td>699.000000</td>\n",
       "      <td>789.000000</td>\n",
       "      <td>0.310500</td>\n",
       "      <td>29669.000000</td>\n",
       "      <td>...</td>\n",
       "      <td>0.059000</td>\n",
       "      <td>806.500000</td>\n",
       "      <td>525.500000</td>\n",
       "      <td>40104.500000</td>\n",
       "      <td>NaN</td>\n",
       "      <td>0.164273</td>\n",
       "      <td>0.155633</td>\n",
       "      <td>0.159272</td>\n",
       "      <td>0.165242</td>\n",
       "      <td>196246.000000</td>\n",
       "    </tr>\n",
       "    <tr>\n",
       "      <th>75%</th>\n",
       "      <td>0.800000</td>\n",
       "      <td>0.805450</td>\n",
       "      <td>1122.000000</td>\n",
       "      <td>27000.000000</td>\n",
       "      <td>2109.000000</td>\n",
       "      <td>1653.000000</td>\n",
       "      <td>2354.000000</td>\n",
       "      <td>3020.000000</td>\n",
       "      <td>0.503800</td>\n",
       "      <td>42090.750000</td>\n",
       "      <td>...</td>\n",
       "      <td>0.105000</td>\n",
       "      <td>2427.000000</td>\n",
       "      <td>1678.250000</td>\n",
       "      <td>58327.750000</td>\n",
       "      <td>NaN</td>\n",
       "      <td>0.237768</td>\n",
       "      <td>0.186919</td>\n",
       "      <td>0.178105</td>\n",
       "      <td>0.185595</td>\n",
       "      <td>230995.000000</td>\n",
       "    </tr>\n",
       "    <tr>\n",
       "      <th>max</th>\n",
       "      <td>1.000000</td>\n",
       "      <td>1.000000</td>\n",
       "      <td>1544.000000</td>\n",
       "      <td>50750.000000</td>\n",
       "      <td>57969.000000</td>\n",
       "      <td>26641.000000</td>\n",
       "      <td>138931.000000</td>\n",
       "      <td>167541.000000</td>\n",
       "      <td>1.000000</td>\n",
       "      <td>67572.000000</td>\n",
       "      <td>...</td>\n",
       "      <td>0.295000</td>\n",
       "      <td>220697.000000</td>\n",
       "      <td>86430.000000</td>\n",
       "      <td>121793.000000</td>\n",
       "      <td>NaN</td>\n",
       "      <td>0.562500</td>\n",
       "      <td>0.326797</td>\n",
       "      <td>0.309091</td>\n",
       "      <td>0.340000</td>\n",
       "      <td>487603.000000</td>\n",
       "    </tr>\n",
       "  </tbody>\n",
       "</table>\n",
       "<p>8 rows × 22 columns</p>\n",
       "</div>"
      ],
      "text/plain": [
       "       admissions admission_rate by_ope_id  admissions admission_rate overall  \\\n",
       "count                          1694.000000                        1663.000000   \n",
       "mean                              0.661394                           0.664378   \n",
       "std                               0.197983                           0.201778   \n",
       "min                               0.000000                           0.000000   \n",
       "25%                               0.540746                           0.540550   \n",
       "50%                               0.678314                           0.683400   \n",
       "75%                               0.800000                           0.805450   \n",
       "max                               1.000000                           1.000000   \n",
       "\n",
       "       admissions sat_scores average overall  \\\n",
       "count                            1230.000000   \n",
       "mean                             1061.692683   \n",
       "std                               135.371537   \n",
       "min                               708.000000   \n",
       "25%                               976.000000   \n",
       "50%                              1043.000000   \n",
       "75%                              1122.000000   \n",
       "max                              1544.000000   \n",
       "\n",
       "       aid median_debt completers overall  aid median_debt number completers  \\\n",
       "count                         1945.000000                        1965.000000   \n",
       "mean                         24104.188689                        2896.670229   \n",
       "std                           6052.420066                        8256.402136   \n",
       "min                           1700.000000                          10.000000   \n",
       "25%                          21148.000000                         307.000000   \n",
       "50%                          25000.000000                         688.000000   \n",
       "75%                          27000.000000                        2109.000000   \n",
       "max                          50750.000000                       57969.000000   \n",
       "\n",
       "       aid median_debt number no_pell_grant  \\\n",
       "count                           1959.000000   \n",
       "mean                            1941.089842   \n",
       "std                             4241.192647   \n",
       "min                               11.000000   \n",
       "25%                              245.000000   \n",
       "50%                              561.000000   \n",
       "75%                             1653.000000   \n",
       "max                            26641.000000   \n",
       "\n",
       "       aid median_debt number noncompleters  \\\n",
       "count                           1965.000000   \n",
       "mean                            5452.566412   \n",
       "std                            19759.871076   \n",
       "min                               10.000000   \n",
       "25%                              279.000000   \n",
       "50%                              699.000000   \n",
       "75%                             2354.000000   \n",
       "max                           138931.000000   \n",
       "\n",
       "       aid median_debt number pell_grant  \\\n",
       "count                        1959.000000   \n",
       "mean                         6349.047473   \n",
       "std                         23555.852066   \n",
       "min                            13.000000   \n",
       "25%                           343.500000   \n",
       "50%                           789.000000   \n",
       "75%                          3020.000000   \n",
       "max                        167541.000000   \n",
       "\n",
       "       completion completion_rate_4yr_100nt  cost attendance academic_year  \\\n",
       "count                           1929.000000                    1930.000000   \n",
       "mean                               0.342672                   32494.789637   \n",
       "std                                0.234754                   13895.541755   \n",
       "min                                0.000000                    6748.000000   \n",
       "25%                                0.159100                   21111.750000   \n",
       "50%                                0.310500                   29669.000000   \n",
       "75%                                0.503800                   42090.750000   \n",
       "max                                1.000000                   67572.000000   \n",
       "\n",
       "           ...        repayment 3_yr_default_rate  \\\n",
       "count      ...                        1990.000000   \n",
       "mean       ...                           0.072763   \n",
       "std        ...                           0.051361   \n",
       "min        ...                           0.000000   \n",
       "25%        ...                           0.035000   \n",
       "50%        ...                           0.059000   \n",
       "75%        ...                           0.105000   \n",
       "max        ...                           0.295000   \n",
       "\n",
       "       repayment 3_yr_repayment female_students  \\\n",
       "count                               1930.000000   \n",
       "mean                                7093.811917   \n",
       "std                                30878.907512   \n",
       "min                                   10.000000   \n",
       "25%                                  337.750000   \n",
       "50%                                  806.500000   \n",
       "75%                                 2427.000000   \n",
       "max                               220697.000000   \n",
       "\n",
       "       repayment 3_yr_repayment male_students  \\\n",
       "count                             1930.000000   \n",
       "mean                              3559.215026   \n",
       "std                              12687.384795   \n",
       "min                                 10.000000   \n",
       "25%                                239.000000   \n",
       "50%                                525.500000   \n",
       "75%                               1678.250000   \n",
       "max                              86430.000000   \n",
       "\n",
       "       student demographics median_family_income  student enrollment all  \\\n",
       "count                                2084.000000                     0.0   \n",
       "mean                                43974.191939                     NaN   \n",
       "std                                 22594.816843                     NaN   \n",
       "min                                     0.000000                     NaN   \n",
       "25%                                 26423.750000                     NaN   \n",
       "50%                                 40104.500000                     NaN   \n",
       "75%                                 58327.750000                     NaN   \n",
       "max                                121793.000000                     NaN   \n",
       "\n",
       "       student share_dependent_highincome 110001plus  \\\n",
       "count                                     756.000000   \n",
       "mean                                        0.177245   \n",
       "std                                         0.099985   \n",
       "min                                         0.003576   \n",
       "25%                                         0.095343   \n",
       "50%                                         0.164273   \n",
       "75%                                         0.237768   \n",
       "max                                         0.562500   \n",
       "\n",
       "       student share_dependent_highincome 75001_110000  \\\n",
       "count                                       777.000000   \n",
       "mean                                          0.148932   \n",
       "std                                           0.053513   \n",
       "min                                           0.015376   \n",
       "25%                                           0.105951   \n",
       "50%                                           0.155633   \n",
       "75%                                           0.186919   \n",
       "max                                           0.326797   \n",
       "\n",
       "       student share_dependent_middleincome 300001_48000  \\\n",
       "count                                        1333.000000   \n",
       "mean                                            0.158840   \n",
       "std                                             0.032102   \n",
       "min                                             0.060201   \n",
       "25%                                             0.138114   \n",
       "50%                                             0.159272   \n",
       "75%                                             0.178105   \n",
       "max                                             0.309091   \n",
       "\n",
       "       student share_dependent_middleincome 48001_75000             id  \n",
       "count                                       1170.000000    2109.000000  \n",
       "mean                                           0.164808  224535.386913  \n",
       "std                                            0.034902  106003.859029  \n",
       "min                                            0.034530  100654.000000  \n",
       "25%                                            0.146050  156541.000000  \n",
       "50%                                            0.165242  196246.000000  \n",
       "75%                                            0.185595  230995.000000  \n",
       "max                                            0.340000  487603.000000  \n",
       "\n",
       "[8 rows x 22 columns]"
      ]
     },
     "execution_count": 19,
     "metadata": {},
     "output_type": "execute_result"
    }
   ],
   "source": [
    "df.describe()"
   ]
  },
  {
   "cell_type": "code",
   "execution_count": 20,
   "metadata": {},
   "outputs": [
    {
     "data": {
      "text/plain": [
       "admissions admission_rate by_ope_id                   415\n",
       "admissions admission_rate overall                     446\n",
       "admissions sat_scores average overall                 879\n",
       "aid median_debt completers overall                    164\n",
       "aid median_debt number completers                     144\n",
       "aid median_debt number no_pell_grant                  150\n",
       "aid median_debt number noncompleters                  144\n",
       "aid median_debt number pell_grant                     150\n",
       "completion completion_rate_4yr_100nt                  180\n",
       "cost attendance academic_year                         179\n",
       "cost avg_net_price private                            744\n",
       "cost avg_net_price public                            1543\n",
       "repayment 3_yr_default_rate                           119\n",
       "repayment 3_yr_repayment female_students              179\n",
       "repayment 3_yr_repayment male_students                179\n",
       "student demographics median_family_income              25\n",
       "student enrollment all                               2109\n",
       "student share_dependent_highincome 110001plus        1353\n",
       "student share_dependent_highincome 75001_110000      1332\n",
       "student share_dependent_middleincome 300001_48000     776\n",
       "student share_dependent_middleincome 48001_75000      939\n",
       "id                                                      0\n",
       "school name                                             0\n",
       "dtype: int64"
      ]
     },
     "execution_count": 20,
     "metadata": {},
     "output_type": "execute_result"
    }
   ],
   "source": [
    "df.isnull().sum()"
   ]
  },
  {
   "cell_type": "code",
   "execution_count": 21,
   "metadata": {
    "collapsed": true
   },
   "outputs": [],
   "source": [
    "df.drop(labels=['cost avg_net_price private','cost avg_net_price public','student enrollment all','student share_dependent_highincome 110001plus','student share_dependent_middleincome 300001_48000','student share_dependent_middleincome 48001_75000','student share_dependent_highincome 75001_110000','id'], axis=1, inplace=True)"
   ]
  },
  {
   "cell_type": "code",
   "execution_count": 22,
   "metadata": {
    "collapsed": true
   },
   "outputs": [],
   "source": [
    "df = df.dropna(axis=0)"
   ]
  },
  {
   "cell_type": "code",
   "execution_count": 23,
   "metadata": {},
   "outputs": [
    {
     "data": {
      "text/plain": [
       "(1184, 15)"
      ]
     },
     "execution_count": 23,
     "metadata": {},
     "output_type": "execute_result"
    }
   ],
   "source": [
    "df.shape"
   ]
  },
  {
   "cell_type": "markdown",
   "metadata": {},
   "source": [
    "# EDA"
   ]
  },
  {
   "cell_type": "code",
   "execution_count": 24,
   "metadata": {
    "collapsed": true
   },
   "outputs": [],
   "source": [
    "corrmat = df.corr()"
   ]
  },
  {
   "cell_type": "code",
   "execution_count": 25,
   "metadata": {},
   "outputs": [
    {
     "data": {
      "image/png": "[encoded data removed]",
      "text/plain": [
       "<matplotlib.figure.Figure at 0x11d081f28>"
      ]
     },
     "metadata": {},
     "output_type": "display_data"
    }
   ],
   "source": [
    "fig, ax = plt.subplots(figsize = (8, 6))\n",
    "                       \n",
    "# Generate a mask for the upper triangle (taken from seaborn example gallery)                       \n",
    "mask = np.zeros_like(corrmat, dtype=np.bool)\n",
    "mask[np.triu_indices_from(mask)] = True\n",
    "\n",
    "# Plot the heatmap with seaborn.\n",
    "# Assign the matplotlib axis the function returns. This will let us resize the labels.\n",
    "ax = sns.heatmap(corrmat, mask=mask, ax=ax)\n",
    "\n",
    "# Resize the labels.\n",
    "ax.set_xticklabels(ax.xaxis.get_ticklabels(), fontsize=14)\n",
    "ax.set_yticklabels(ax.yaxis.get_ticklabels(), fontsize=14)\n",
    "\n",
    "# If you put plt.show() at the bottom, it prevents those useless printouts from matplotlib.\n",
    "plt.show()"
   ]
  },
  {
   "cell_type": "code",
   "execution_count": 26,
   "metadata": {},
   "outputs": [
    {
     "data": {
      "text/plain": [
       "<matplotlib.axes._subplots.AxesSubplot at 0x11034dcc0>"
      ]
     },
     "execution_count": 26,
     "metadata": {},
     "output_type": "execute_result"
    },
    {
     "data": {
      "image/png": "[encoded data removed]",
      "text/plain": [
       "<matplotlib.figure.Figure at 0x11d06da90>"
      ]
     },
     "metadata": {},
     "output_type": "display_data"
    }
   ],
   "source": [
    "df['completion completion_rate_4yr_100nt'].hist(bins=15)"
   ]
  },
  {
   "cell_type": "code",
   "execution_count": 27,
   "metadata": {},
   "outputs": [
    {
     "data": {
      "text/plain": [
       "<seaborn.axisgrid.PairGrid at 0x110357358>"
      ]
     },
     "execution_count": 27,
     "metadata": {},
     "output_type": "execute_result"
    },
    {
     "data": {
      "image/png": "[encoded data removed]",
      "text/plain": [
       "<matplotlib.figure.Figure at 0x1195e4ef0>"
      ]
     },
     "metadata": {},
     "output_type": "display_data"
    }
   ],
   "source": [
    "sns.pairplot(df[['completion completion_rate_4yr_100nt','aid median_debt number no_pell_grant']])"
   ]
  },
  {
   "cell_type": "code",
   "execution_count": 28,
   "metadata": {},
   "outputs": [
    {
     "data": {
      "text/plain": [
       "<seaborn.axisgrid.PairGrid at 0x121611860>"
      ]
     },
     "execution_count": 28,
     "metadata": {},
     "output_type": "execute_result"
    },
    {
     "data": {
      "image/png": "[encoded data removed]",
      "text/plain": [
       "<matplotlib.figure.Figure at 0x1216112e8>"
      ]
     },
     "metadata": {},
     "output_type": "display_data"
    }
   ],
   "source": [
    "sns.pairplot(df[['completion completion_rate_4yr_100nt','admissions sat_scores average overall']], fig.set_size_inches(20,20))"
   ]
  },
  {
   "cell_type": "code",
   "execution_count": 29,
   "metadata": {},
   "outputs": [
    {
     "data": {
      "text/plain": [
       "<matplotlib.text.Text at 0x1219d4080>"
      ]
     },
     "execution_count": 29,
     "metadata": {},
     "output_type": "execute_result"
    },
    {
     "data": {
      "image/png": "[encoded data removed]",
      "text/plain": [
       "<matplotlib.figure.Figure at 0x12179d7b8>"
      ]
     },
     "metadata": {},
     "output_type": "display_data"
    }
   ],
   "source": [
    "sns.boxplot(y=df['completion completion_rate_4yr_100nt']).set_title('2015 Student\\'s Completion Rate 4 yr - within 4 yrs.')\n"
   ]
  },
  {
   "cell_type": "code",
   "execution_count": 30,
   "metadata": {},
   "outputs": [
    {
     "data": {
      "text/plain": [
       "<matplotlib.text.Text at 0x121ba4a58>"
      ]
     },
     "execution_count": 30,
     "metadata": {},
     "output_type": "execute_result"
    },
    {
     "data": {
      "image/png": "[encoded data removed]",
      "text/plain": [
       "<matplotlib.figure.Figure at 0x121abec50>"
      ]
     },
     "metadata": {},
     "output_type": "display_data"
    }
   ],
   "source": [
    "sns.swarmplot(y=df['completion completion_rate_4yr_100nt'], color=\".25\").set_title('2015 Completion Rate 4 yr - within 4 yrs.')"
   ]
  },
  {
   "cell_type": "code",
   "execution_count": 31,
   "metadata": {},
   "outputs": [
    {
     "data": {
      "text/plain": [
       "<matplotlib.text.Text at 0x121ccb828>"
      ]
     },
     "execution_count": 31,
     "metadata": {},
     "output_type": "execute_result"
    },
    {
     "data": {
      "image/png": "[encoded data removed]",
      "text/plain": [
       "<matplotlib.figure.Figure at 0x121b9d668>"
      ]
     },
     "metadata": {},
     "output_type": "display_data"
    }
   ],
   "source": [
    "sns.boxplot(y=df['aid median_debt number no_pell_grant']).set_title('2015 Aid - Median debt number - No Pell Grant ')\n"
   ]
  },
  {
   "cell_type": "code",
   "execution_count": 32,
   "metadata": {},
   "outputs": [
    {
     "data": {
      "text/plain": [
       "<matplotlib.text.Text at 0x121d6c438>"
      ]
     },
     "execution_count": 32,
     "metadata": {},
     "output_type": "execute_result"
    },
    {
     "data": {
      "image/png": "[encoded data removed]",
      "text/plain": [
       "<matplotlib.figure.Figure at 0x121d2c470>"
      ]
     },
     "metadata": {},
     "output_type": "display_data"
    }
   ],
   "source": [
    "sns.boxplot(y=df['admissions sat_scores average overall']).set_title('2015 SAT Scores Average Overall')"
   ]
  },
  {
   "cell_type": "code",
   "execution_count": 33,
   "metadata": {},
   "outputs": [
    {
     "data": {
      "text/plain": [
       "<matplotlib.text.Text at 0x121f4ddd8>"
      ]
     },
     "execution_count": 33,
     "metadata": {},
     "output_type": "execute_result"
    },
    {
     "data": {
      "image/png": "[encoded data removed]",
      "text/plain": [
       "<matplotlib.figure.Figure at 0x121d3a240>"
      ]
     },
     "metadata": {},
     "output_type": "display_data"
    }
   ],
   "source": [
    "df['aid median_debt number noncompleters'].hist(bins=40, figsize=(12,8)).set_title('2015 Median Debt Amount - Noncompleters')"
   ]
  },
  {
   "cell_type": "code",
   "execution_count": 34,
   "metadata": {},
   "outputs": [
    {
     "data": {
      "text/plain": [
       "14047.0    17\n",
       "379.0       5\n",
       "335.0       5\n",
       "546.0       4\n",
       "358.0       4\n",
       "369.0       4\n",
       "223.0       4\n",
       "16479.0     4\n",
       "18.0        4\n",
       "491.0       4\n",
       "3875.0      4\n",
       "572.0       4\n",
       "2688.0      4\n",
       "331.0       4\n",
       "315.0       3\n",
       "1001.0      3\n",
       "119.0       3\n",
       "438.0       3\n",
       "232.0       3\n",
       "544.0       3\n",
       "759.0       3\n",
       "473.0       3\n",
       "3630.0      3\n",
       "515.0       3\n",
       "461.0       3\n",
       "493.0       3\n",
       "450.0       3\n",
       "195.0       3\n",
       "500.0       3\n",
       "384.0       3\n",
       "           ..\n",
       "703.0       1\n",
       "215.0       1\n",
       "875.0       1\n",
       "1512.0      1\n",
       "673.0       1\n",
       "3195.0      1\n",
       "2342.0      1\n",
       "2522.0      1\n",
       "1359.0      1\n",
       "1161.0      1\n",
       "5965.0      1\n",
       "3683.0      1\n",
       "2215.0      1\n",
       "4255.0      1\n",
       "1422.0      1\n",
       "2693.0      1\n",
       "1015.0      1\n",
       "487.0       1\n",
       "1159.0      1\n",
       "4121.0      1\n",
       "5502.0      1\n",
       "2622.0      1\n",
       "374.0       1\n",
       "1516.0      1\n",
       "961.0       1\n",
       "3760.0      1\n",
       "181.0       1\n",
       "5454.0      1\n",
       "1464.0      1\n",
       "5635.0      1\n",
       "Name: aid median_debt number noncompleters, Length: 915, dtype: int64"
      ]
     },
     "execution_count": 34,
     "metadata": {},
     "output_type": "execute_result"
    }
   ],
   "source": [
    "df['aid median_debt number noncompleters'].value_counts().sort_values(ascending=False)"
   ]
  },
  {
   "cell_type": "code",
   "execution_count": 35,
   "metadata": {},
   "outputs": [
    {
     "data": {
      "text/plain": [
       "341     Pennsylvania State University-Penn State Abington\n",
       "342        Pennsylvania State University-Penn State Berks\n",
       "343       Pennsylvania State University-Penn State Beaver\n",
       "344     Pennsylvania State University-Penn State Fayet...\n",
       "417            Pennsylvania State University-World Campus\n",
       "1215        Pennsylvania State University-Penn State York\n",
       "1216    Pennsylvania State University-Penn State Brand...\n",
       "1217    Pennsylvania State University-Penn State Schuy...\n",
       "1218    Pennsylvania State University-Penn State Great...\n",
       "1341    Pennsylvania State University-Penn State Erie-...\n",
       "1342     Pennsylvania State University-Penn State Altoona\n",
       "1343    Pennsylvania State University-Penn State Lehig...\n",
       "1344    Pennsylvania State University-Penn State Harri...\n",
       "1488            Pennsylvania State University-Main Campus\n",
       "1489    Pennsylvania State University-Penn State Worth...\n",
       "1490    Pennsylvania State University-Penn State Wilke...\n",
       "1491    Pennsylvania State University-Penn State New K...\n",
       "Name: school name, dtype: object"
      ]
     },
     "execution_count": 35,
     "metadata": {},
     "output_type": "execute_result"
    }
   ],
   "source": [
    "df.loc[df['aid median_debt number noncompleters'] == 14047.0,'school name']"
   ]
  },
  {
   "cell_type": "code",
   "execution_count": 36,
   "metadata": {},
   "outputs": [
    {
     "data": {
      "text/plain": [
       "<matplotlib.axes._subplots.AxesSubplot at 0x122260d30>"
      ]
     },
     "execution_count": 36,
     "metadata": {},
     "output_type": "execute_result"
    },
    {
     "data": {
      "image/png": "[encoded data removed]",
      "text/plain": [
       "<matplotlib.figure.Figure at 0x1215c0780>"
      ]
     },
     "metadata": {},
     "output_type": "display_data"
    }
   ],
   "source": [
    "df['admissions sat_scores average overall'].hist(bins=20)"
   ]
  },
  {
   "cell_type": "markdown",
   "metadata": {},
   "source": [
    "# Assign X and y variables:"
   ]
  },
  {
   "cell_type": "code",
   "execution_count": 37,
   "metadata": {
    "collapsed": true
   },
   "outputs": [],
   "source": [
    "X = df[[c for c in df.columns if not 'school name' in c and not 'completion completion_rate_4yr_100nt' in c]]"
   ]
  },
  {
   "cell_type": "code",
   "execution_count": 38,
   "metadata": {},
   "outputs": [
    {
     "data": {
      "text/plain": [
       "Index(['admissions admission_rate by_ope_id',\n",
       "       'admissions admission_rate overall',\n",
       "       'admissions sat_scores average overall',\n",
       "       'aid median_debt completers overall',\n",
       "       'aid median_debt number completers',\n",
       "       'aid median_debt number no_pell_grant',\n",
       "       'aid median_debt number noncompleters',\n",
       "       'aid median_debt number pell_grant',\n",
       "       'completion completion_rate_4yr_100nt', 'cost attendance academic_year',\n",
       "       'repayment 3_yr_default_rate',\n",
       "       'repayment 3_yr_repayment female_students',\n",
       "       'repayment 3_yr_repayment male_students',\n",
       "       'student demographics median_family_income', 'school name'],\n",
       "      dtype='object')"
      ]
     },
     "execution_count": 38,
     "metadata": {},
     "output_type": "execute_result"
    }
   ],
   "source": [
    "df.columns"
   ]
  },
  {
   "cell_type": "code",
   "execution_count": 39,
   "metadata": {},
   "outputs": [
    {
     "data": {
      "text/plain": [
       "admissions admission_rate by_ope_id          float64\n",
       "admissions admission_rate overall            float64\n",
       "admissions sat_scores average overall        float64\n",
       "aid median_debt completers overall           float64\n",
       "aid median_debt number completers            float64\n",
       "aid median_debt number no_pell_grant         float64\n",
       "aid median_debt number noncompleters         float64\n",
       "aid median_debt number pell_grant            float64\n",
       "cost attendance academic_year                float64\n",
       "repayment 3_yr_default_rate                  float64\n",
       "repayment 3_yr_repayment female_students     float64\n",
       "repayment 3_yr_repayment male_students       float64\n",
       "student demographics median_family_income    float64\n",
       "dtype: object"
      ]
     },
     "execution_count": 39,
     "metadata": {},
     "output_type": "execute_result"
    }
   ],
   "source": [
    "X.dtypes"
   ]
  },
  {
   "cell_type": "code",
   "execution_count": 40,
   "metadata": {},
   "outputs": [
    {
     "data": {
      "text/html": [
       "<div>\n",
       "<style>\n",
       "    .dataframe thead tr:only-child th {\n",
       "        text-align: right;\n",
       "    }\n",
       "\n",
       "    .dataframe thead th {\n",
       "        text-align: left;\n",
       "    }\n",
       "\n",
       "    .dataframe tbody tr th {\n",
       "        vertical-align: top;\n",
       "    }\n",
       "</style>\n",
       "<table border=\"1\" class=\"dataframe\">\n",
       "  <thead>\n",
       "    <tr style=\"text-align: right;\">\n",
       "      <th></th>\n",
       "      <th>admissions admission_rate by_ope_id</th>\n",
       "      <th>admissions admission_rate overall</th>\n",
       "      <th>admissions sat_scores average overall</th>\n",
       "      <th>aid median_debt completers overall</th>\n",
       "      <th>aid median_debt number completers</th>\n",
       "      <th>aid median_debt number no_pell_grant</th>\n",
       "      <th>aid median_debt number noncompleters</th>\n",
       "      <th>aid median_debt number pell_grant</th>\n",
       "      <th>cost attendance academic_year</th>\n",
       "      <th>repayment 3_yr_default_rate</th>\n",
       "      <th>repayment 3_yr_repayment female_students</th>\n",
       "      <th>repayment 3_yr_repayment male_students</th>\n",
       "      <th>student demographics median_family_income</th>\n",
       "    </tr>\n",
       "  </thead>\n",
       "  <tbody>\n",
       "    <tr>\n",
       "      <th>0</th>\n",
       "      <td>0.583180</td>\n",
       "      <td>0.5832</td>\n",
       "      <td>1226.0</td>\n",
       "      <td>24000.0</td>\n",
       "      <td>4349.0</td>\n",
       "      <td>5557.0</td>\n",
       "      <td>5635.0</td>\n",
       "      <td>4386.0</td>\n",
       "      <td>26726.0</td>\n",
       "      <td>0.030</td>\n",
       "      <td>4445.0</td>\n",
       "      <td>4390.0</td>\n",
       "      <td>74146.0</td>\n",
       "    </tr>\n",
       "    <tr>\n",
       "      <th>1</th>\n",
       "      <td>0.747752</td>\n",
       "      <td>0.7478</td>\n",
       "      <td>1029.0</td>\n",
       "      <td>25500.0</td>\n",
       "      <td>4227.0</td>\n",
       "      <td>3151.0</td>\n",
       "      <td>6205.0</td>\n",
       "      <td>7204.0</td>\n",
       "      <td>19570.0</td>\n",
       "      <td>0.086</td>\n",
       "      <td>5685.0</td>\n",
       "      <td>4073.0</td>\n",
       "      <td>36618.0</td>\n",
       "    </tr>\n",
       "    <tr>\n",
       "      <th>2</th>\n",
       "      <td>0.567874</td>\n",
       "      <td>0.5679</td>\n",
       "      <td>1197.0</td>\n",
       "      <td>25000.0</td>\n",
       "      <td>3314.0</td>\n",
       "      <td>3222.0</td>\n",
       "      <td>3695.0</td>\n",
       "      <td>3740.0</td>\n",
       "      <td>24804.0</td>\n",
       "      <td>0.053</td>\n",
       "      <td>2076.0</td>\n",
       "      <td>2769.0</td>\n",
       "      <td>53644.0</td>\n",
       "    </tr>\n",
       "    <tr>\n",
       "      <th>3</th>\n",
       "      <td>0.762614</td>\n",
       "      <td>0.7626</td>\n",
       "      <td>1025.0</td>\n",
       "      <td>25760.0</td>\n",
       "      <td>1934.0</td>\n",
       "      <td>1778.0</td>\n",
       "      <td>2266.0</td>\n",
       "      <td>2405.0</td>\n",
       "      <td>24539.0</td>\n",
       "      <td>0.054</td>\n",
       "      <td>1896.0</td>\n",
       "      <td>2056.0</td>\n",
       "      <td>48473.0</td>\n",
       "    </tr>\n",
       "    <tr>\n",
       "      <th>4</th>\n",
       "      <td>0.641537</td>\n",
       "      <td>0.6415</td>\n",
       "      <td>1042.0</td>\n",
       "      <td>24500.0</td>\n",
       "      <td>1533.0</td>\n",
       "      <td>959.0</td>\n",
       "      <td>1168.0</td>\n",
       "      <td>1719.0</td>\n",
       "      <td>47322.0</td>\n",
       "      <td>0.070</td>\n",
       "      <td>1701.0</td>\n",
       "      <td>863.0</td>\n",
       "      <td>42388.0</td>\n",
       "    </tr>\n",
       "    <tr>\n",
       "      <th>5</th>\n",
       "      <td>0.706314</td>\n",
       "      <td>0.7063</td>\n",
       "      <td>1028.0</td>\n",
       "      <td>23695.0</td>\n",
       "      <td>3510.0</td>\n",
       "      <td>2526.0</td>\n",
       "      <td>4743.0</td>\n",
       "      <td>5682.0</td>\n",
       "      <td>19076.0</td>\n",
       "      <td>0.106</td>\n",
       "      <td>4166.0</td>\n",
       "      <td>2923.0</td>\n",
       "      <td>37152.0</td>\n",
       "    </tr>\n",
       "    <tr>\n",
       "      <th>6</th>\n",
       "      <td>0.891055</td>\n",
       "      <td>0.8911</td>\n",
       "      <td>1143.0</td>\n",
       "      <td>22750.0</td>\n",
       "      <td>4329.0</td>\n",
       "      <td>3963.0</td>\n",
       "      <td>3840.0</td>\n",
       "      <td>4170.0</td>\n",
       "      <td>24738.0</td>\n",
       "      <td>0.044</td>\n",
       "      <td>3244.0</td>\n",
       "      <td>3083.0</td>\n",
       "      <td>61106.0</td>\n",
       "    </tr>\n",
       "    <tr>\n",
       "      <th>7</th>\n",
       "      <td>0.716882</td>\n",
       "      <td>0.7169</td>\n",
       "      <td>1159.0</td>\n",
       "      <td>19656.5</td>\n",
       "      <td>3218.0</td>\n",
       "      <td>2856.0</td>\n",
       "      <td>3544.0</td>\n",
       "      <td>3881.0</td>\n",
       "      <td>23873.0</td>\n",
       "      <td>0.072</td>\n",
       "      <td>3314.0</td>\n",
       "      <td>2757.0</td>\n",
       "      <td>46439.0</td>\n",
       "    </tr>\n",
       "    <tr>\n",
       "      <th>8</th>\n",
       "      <td>0.934675</td>\n",
       "      <td>0.9347</td>\n",
       "      <td>1145.0</td>\n",
       "      <td>20500.0</td>\n",
       "      <td>4407.0</td>\n",
       "      <td>3926.0</td>\n",
       "      <td>3544.0</td>\n",
       "      <td>4001.0</td>\n",
       "      <td>23733.0</td>\n",
       "      <td>0.042</td>\n",
       "      <td>3679.0</td>\n",
       "      <td>3551.0</td>\n",
       "      <td>59818.0</td>\n",
       "    </tr>\n",
       "    <tr>\n",
       "      <th>9</th>\n",
       "      <td>0.853928</td>\n",
       "      <td>0.8539</td>\n",
       "      <td>1047.0</td>\n",
       "      <td>25000.0</td>\n",
       "      <td>1743.0</td>\n",
       "      <td>1200.0</td>\n",
       "      <td>2794.0</td>\n",
       "      <td>3312.0</td>\n",
       "      <td>18898.0</td>\n",
       "      <td>0.080</td>\n",
       "      <td>2244.0</td>\n",
       "      <td>1448.0</td>\n",
       "      <td>34684.0</td>\n",
       "    </tr>\n",
       "    <tr>\n",
       "      <th>10</th>\n",
       "      <td>0.918886</td>\n",
       "      <td>0.9189</td>\n",
       "      <td>1068.0</td>\n",
       "      <td>24950.0</td>\n",
       "      <td>2909.0</td>\n",
       "      <td>2380.0</td>\n",
       "      <td>3633.0</td>\n",
       "      <td>4140.0</td>\n",
       "      <td>16212.0</td>\n",
       "      <td>0.081</td>\n",
       "      <td>3605.0</td>\n",
       "      <td>2695.0</td>\n",
       "      <td>46687.0</td>\n",
       "    </tr>\n",
       "    <tr>\n",
       "      <th>13</th>\n",
       "      <td>0.798681</td>\n",
       "      <td>0.7987</td>\n",
       "      <td>1070.0</td>\n",
       "      <td>22258.0</td>\n",
       "      <td>4001.0</td>\n",
       "      <td>3114.0</td>\n",
       "      <td>6963.0</td>\n",
       "      <td>7761.0</td>\n",
       "      <td>21588.0</td>\n",
       "      <td>0.063</td>\n",
       "      <td>6338.0</td>\n",
       "      <td>3899.0</td>\n",
       "      <td>26508.0</td>\n",
       "    </tr>\n",
       "    <tr>\n",
       "      <th>14</th>\n",
       "      <td>0.823789</td>\n",
       "      <td>0.8238</td>\n",
       "      <td>1030.0</td>\n",
       "      <td>26633.0</td>\n",
       "      <td>5193.0</td>\n",
       "      <td>3787.0</td>\n",
       "      <td>4718.0</td>\n",
       "      <td>6061.0</td>\n",
       "      <td>22561.0</td>\n",
       "      <td>0.059</td>\n",
       "      <td>4702.0</td>\n",
       "      <td>4518.0</td>\n",
       "      <td>49809.0</td>\n",
       "    </tr>\n",
       "    <tr>\n",
       "      <th>15</th>\n",
       "      <td>0.761423</td>\n",
       "      <td>0.7614</td>\n",
       "      <td>1030.0</td>\n",
       "      <td>27000.0</td>\n",
       "      <td>2043.0</td>\n",
       "      <td>1665.0</td>\n",
       "      <td>2640.0</td>\n",
       "      <td>3001.0</td>\n",
       "      <td>18983.0</td>\n",
       "      <td>0.062</td>\n",
       "      <td>2638.0</td>\n",
       "      <td>1869.0</td>\n",
       "      <td>49626.0</td>\n",
       "    </tr>\n",
       "    <tr>\n",
       "      <th>16</th>\n",
       "      <td>0.591795</td>\n",
       "      <td>0.5918</td>\n",
       "      <td>1032.0</td>\n",
       "      <td>27000.0</td>\n",
       "      <td>748.0</td>\n",
       "      <td>555.0</td>\n",
       "      <td>759.0</td>\n",
       "      <td>942.0</td>\n",
       "      <td>46545.0</td>\n",
       "      <td>0.052</td>\n",
       "      <td>826.0</td>\n",
       "      <td>704.0</td>\n",
       "      <td>42148.0</td>\n",
       "    </tr>\n",
       "    <tr>\n",
       "      <th>17</th>\n",
       "      <td>0.949053</td>\n",
       "      <td>0.9491</td>\n",
       "      <td>1127.0</td>\n",
       "      <td>24400.0</td>\n",
       "      <td>1045.0</td>\n",
       "      <td>1056.0</td>\n",
       "      <td>841.0</td>\n",
       "      <td>821.0</td>\n",
       "      <td>45532.0</td>\n",
       "      <td>0.017</td>\n",
       "      <td>1094.0</td>\n",
       "      <td>650.0</td>\n",
       "      <td>76094.0</td>\n",
       "    </tr>\n",
       "    <tr>\n",
       "      <th>19</th>\n",
       "      <td>0.876500</td>\n",
       "      <td>0.8765</td>\n",
       "      <td>1054.0</td>\n",
       "      <td>20000.0</td>\n",
       "      <td>1267.0</td>\n",
       "      <td>900.0</td>\n",
       "      <td>1800.0</td>\n",
       "      <td>2154.0</td>\n",
       "      <td>16944.0</td>\n",
       "      <td>0.086</td>\n",
       "      <td>1920.0</td>\n",
       "      <td>954.0</td>\n",
       "      <td>31469.0</td>\n",
       "    </tr>\n",
       "    <tr>\n",
       "      <th>20</th>\n",
       "      <td>0.785629</td>\n",
       "      <td>0.7856</td>\n",
       "      <td>911.0</td>\n",
       "      <td>30750.0</td>\n",
       "      <td>1075.0</td>\n",
       "      <td>599.0</td>\n",
       "      <td>3327.0</td>\n",
       "      <td>3781.0</td>\n",
       "      <td>18884.0</td>\n",
       "      <td>0.115</td>\n",
       "      <td>2189.0</td>\n",
       "      <td>1410.0</td>\n",
       "      <td>22307.0</td>\n",
       "    </tr>\n",
       "    <tr>\n",
       "      <th>21</th>\n",
       "      <td>0.820453</td>\n",
       "      <td>0.8205</td>\n",
       "      <td>1029.0</td>\n",
       "      <td>20238.0</td>\n",
       "      <td>1188.0</td>\n",
       "      <td>985.0</td>\n",
       "      <td>2095.0</td>\n",
       "      <td>2286.0</td>\n",
       "      <td>16571.0</td>\n",
       "      <td>0.124</td>\n",
       "      <td>1899.0</td>\n",
       "      <td>1068.0</td>\n",
       "      <td>33274.0</td>\n",
       "    </tr>\n",
       "    <tr>\n",
       "      <th>22</th>\n",
       "      <td>0.638445</td>\n",
       "      <td>0.6384</td>\n",
       "      <td>1105.0</td>\n",
       "      <td>19865.0</td>\n",
       "      <td>1248.0</td>\n",
       "      <td>1038.0</td>\n",
       "      <td>1441.0</td>\n",
       "      <td>1625.0</td>\n",
       "      <td>18031.0</td>\n",
       "      <td>0.067</td>\n",
       "      <td>1303.0</td>\n",
       "      <td>1230.0</td>\n",
       "      <td>45985.0</td>\n",
       "    </tr>\n",
       "    <tr>\n",
       "      <th>23</th>\n",
       "      <td>0.214485</td>\n",
       "      <td>0.2145</td>\n",
       "      <td>803.0</td>\n",
       "      <td>24348.0</td>\n",
       "      <td>352.0</td>\n",
       "      <td>238.0</td>\n",
       "      <td>1558.0</td>\n",
       "      <td>1669.0</td>\n",
       "      <td>10754.0</td>\n",
       "      <td>0.133</td>\n",
       "      <td>1273.0</td>\n",
       "      <td>419.0</td>\n",
       "      <td>15353.0</td>\n",
       "    </tr>\n",
       "    <tr>\n",
       "      <th>24</th>\n",
       "      <td>0.694444</td>\n",
       "      <td>0.6944</td>\n",
       "      <td>969.0</td>\n",
       "      <td>23027.0</td>\n",
       "      <td>222.0</td>\n",
       "      <td>232.0</td>\n",
       "      <td>374.0</td>\n",
       "      <td>361.0</td>\n",
       "      <td>23485.0</td>\n",
       "      <td>0.093</td>\n",
       "      <td>276.0</td>\n",
       "      <td>310.0</td>\n",
       "      <td>31598.0</td>\n",
       "    </tr>\n",
       "    <tr>\n",
       "      <th>25</th>\n",
       "      <td>0.666272</td>\n",
       "      <td>0.6663</td>\n",
       "      <td>1030.0</td>\n",
       "      <td>22575.5</td>\n",
       "      <td>3198.0</td>\n",
       "      <td>3306.0</td>\n",
       "      <td>3743.0</td>\n",
       "      <td>3587.0</td>\n",
       "      <td>18577.0</td>\n",
       "      <td>0.041</td>\n",
       "      <td>3245.0</td>\n",
       "      <td>2951.0</td>\n",
       "      <td>66690.0</td>\n",
       "    </tr>\n",
       "    <tr>\n",
       "      <th>26</th>\n",
       "      <td>0.772958</td>\n",
       "      <td>0.7730</td>\n",
       "      <td>1049.0</td>\n",
       "      <td>22276.5</td>\n",
       "      <td>1712.0</td>\n",
       "      <td>1383.0</td>\n",
       "      <td>1516.0</td>\n",
       "      <td>1819.0</td>\n",
       "      <td>19032.0</td>\n",
       "      <td>0.053</td>\n",
       "      <td>2176.0</td>\n",
       "      <td>1605.0</td>\n",
       "      <td>60857.0</td>\n",
       "    </tr>\n",
       "    <tr>\n",
       "      <th>28</th>\n",
       "      <td>0.767612</td>\n",
       "      <td>0.7676</td>\n",
       "      <td>1026.0</td>\n",
       "      <td>20500.0</td>\n",
       "      <td>481.0</td>\n",
       "      <td>476.0</td>\n",
       "      <td>659.0</td>\n",
       "      <td>659.0</td>\n",
       "      <td>22317.0</td>\n",
       "      <td>0.058</td>\n",
       "      <td>393.0</td>\n",
       "      <td>442.0</td>\n",
       "      <td>49322.0</td>\n",
       "    </tr>\n",
       "    <tr>\n",
       "      <th>29</th>\n",
       "      <td>0.535011</td>\n",
       "      <td>0.5350</td>\n",
       "      <td>1024.0</td>\n",
       "      <td>25000.0</td>\n",
       "      <td>328.0</td>\n",
       "      <td>256.0</td>\n",
       "      <td>405.0</td>\n",
       "      <td>475.0</td>\n",
       "      <td>31279.0</td>\n",
       "      <td>0.043</td>\n",
       "      <td>437.0</td>\n",
       "      <td>305.0</td>\n",
       "      <td>53858.0</td>\n",
       "    </tr>\n",
       "    <tr>\n",
       "      <th>31</th>\n",
       "      <td>0.735835</td>\n",
       "      <td>0.7358</td>\n",
       "      <td>992.0</td>\n",
       "      <td>27000.0</td>\n",
       "      <td>1721.0</td>\n",
       "      <td>1185.0</td>\n",
       "      <td>2339.0</td>\n",
       "      <td>2843.0</td>\n",
       "      <td>19927.0</td>\n",
       "      <td>0.056</td>\n",
       "      <td>2306.0</td>\n",
       "      <td>1321.0</td>\n",
       "      <td>29077.0</td>\n",
       "    </tr>\n",
       "    <tr>\n",
       "      <th>32</th>\n",
       "      <td>0.622709</td>\n",
       "      <td>0.6227</td>\n",
       "      <td>1105.0</td>\n",
       "      <td>25750.0</td>\n",
       "      <td>1671.0</td>\n",
       "      <td>949.0</td>\n",
       "      <td>1702.0</td>\n",
       "      <td>2400.0</td>\n",
       "      <td>18464.0</td>\n",
       "      <td>0.046</td>\n",
       "      <td>1752.0</td>\n",
       "      <td>1283.0</td>\n",
       "      <td>24501.0</td>\n",
       "    </tr>\n",
       "    <tr>\n",
       "      <th>33</th>\n",
       "      <td>0.918885</td>\n",
       "      <td>0.9189</td>\n",
       "      <td>1027.0</td>\n",
       "      <td>23250.0</td>\n",
       "      <td>550.0</td>\n",
       "      <td>404.0</td>\n",
       "      <td>672.0</td>\n",
       "      <td>809.0</td>\n",
       "      <td>19944.0</td>\n",
       "      <td>0.086</td>\n",
       "      <td>703.0</td>\n",
       "      <td>663.0</td>\n",
       "      <td>44102.0</td>\n",
       "    </tr>\n",
       "    <tr>\n",
       "      <th>34</th>\n",
       "      <td>0.774902</td>\n",
       "      <td>0.7749</td>\n",
       "      <td>1027.0</td>\n",
       "      <td>17746.5</td>\n",
       "      <td>556.0</td>\n",
       "      <td>712.0</td>\n",
       "      <td>1422.0</td>\n",
       "      <td>1253.0</td>\n",
       "      <td>33761.0</td>\n",
       "      <td>0.051</td>\n",
       "      <td>997.0</td>\n",
       "      <td>605.0</td>\n",
       "      <td>35620.0</td>\n",
       "    </tr>\n",
       "    <tr>\n",
       "      <th>...</th>\n",
       "      <td>...</td>\n",
       "      <td>...</td>\n",
       "      <td>...</td>\n",
       "      <td>...</td>\n",
       "      <td>...</td>\n",
       "      <td>...</td>\n",
       "      <td>...</td>\n",
       "      <td>...</td>\n",
       "      <td>...</td>\n",
       "      <td>...</td>\n",
       "      <td>...</td>\n",
       "      <td>...</td>\n",
       "      <td>...</td>\n",
       "    </tr>\n",
       "    <tr>\n",
       "      <th>1957</th>\n",
       "      <td>0.776088</td>\n",
       "      <td>0.7761</td>\n",
       "      <td>1046.0</td>\n",
       "      <td>23250.0</td>\n",
       "      <td>676.0</td>\n",
       "      <td>633.0</td>\n",
       "      <td>546.0</td>\n",
       "      <td>584.0</td>\n",
       "      <td>41003.0</td>\n",
       "      <td>0.023</td>\n",
       "      <td>614.0</td>\n",
       "      <td>463.0</td>\n",
       "      <td>59561.0</td>\n",
       "    </tr>\n",
       "    <tr>\n",
       "      <th>1958</th>\n",
       "      <td>0.597955</td>\n",
       "      <td>0.5980</td>\n",
       "      <td>1146.0</td>\n",
       "      <td>19500.0</td>\n",
       "      <td>367.0</td>\n",
       "      <td>408.0</td>\n",
       "      <td>381.0</td>\n",
       "      <td>337.0</td>\n",
       "      <td>23141.0</td>\n",
       "      <td>0.062</td>\n",
       "      <td>395.0</td>\n",
       "      <td>297.0</td>\n",
       "      <td>59293.0</td>\n",
       "    </tr>\n",
       "    <tr>\n",
       "      <th>1959</th>\n",
       "      <td>0.660072</td>\n",
       "      <td>0.6601</td>\n",
       "      <td>1096.0</td>\n",
       "      <td>25750.0</td>\n",
       "      <td>238.0</td>\n",
       "      <td>197.0</td>\n",
       "      <td>151.0</td>\n",
       "      <td>191.0</td>\n",
       "      <td>44887.0</td>\n",
       "      <td>0.050</td>\n",
       "      <td>210.0</td>\n",
       "      <td>177.0</td>\n",
       "      <td>50133.0</td>\n",
       "    </tr>\n",
       "    <tr>\n",
       "      <th>1961</th>\n",
       "      <td>0.778626</td>\n",
       "      <td>0.7786</td>\n",
       "      <td>1145.0</td>\n",
       "      <td>23125.0</td>\n",
       "      <td>196.0</td>\n",
       "      <td>141.0</td>\n",
       "      <td>151.0</td>\n",
       "      <td>204.0</td>\n",
       "      <td>23120.0</td>\n",
       "      <td>0.006</td>\n",
       "      <td>165.0</td>\n",
       "      <td>145.0</td>\n",
       "      <td>61938.0</td>\n",
       "    </tr>\n",
       "    <tr>\n",
       "      <th>1962</th>\n",
       "      <td>0.904685</td>\n",
       "      <td>0.9047</td>\n",
       "      <td>1058.0</td>\n",
       "      <td>21087.5</td>\n",
       "      <td>714.0</td>\n",
       "      <td>463.0</td>\n",
       "      <td>859.0</td>\n",
       "      <td>1100.0</td>\n",
       "      <td>30797.0</td>\n",
       "      <td>0.100</td>\n",
       "      <td>949.0</td>\n",
       "      <td>478.0</td>\n",
       "      <td>37359.0</td>\n",
       "    </tr>\n",
       "    <tr>\n",
       "      <th>1963</th>\n",
       "      <td>0.641048</td>\n",
       "      <td>0.6410</td>\n",
       "      <td>1110.0</td>\n",
       "      <td>27000.0</td>\n",
       "      <td>368.0</td>\n",
       "      <td>339.0</td>\n",
       "      <td>245.0</td>\n",
       "      <td>271.0</td>\n",
       "      <td>42391.0</td>\n",
       "      <td>0.021</td>\n",
       "      <td>311.0</td>\n",
       "      <td>187.0</td>\n",
       "      <td>72297.0</td>\n",
       "    </tr>\n",
       "    <tr>\n",
       "      <th>1964</th>\n",
       "      <td>0.493819</td>\n",
       "      <td>0.4938</td>\n",
       "      <td>1160.0</td>\n",
       "      <td>25000.0</td>\n",
       "      <td>373.0</td>\n",
       "      <td>320.0</td>\n",
       "      <td>180.0</td>\n",
       "      <td>233.0</td>\n",
       "      <td>44659.0</td>\n",
       "      <td>0.045</td>\n",
       "      <td>315.0</td>\n",
       "      <td>226.0</td>\n",
       "      <td>69131.0</td>\n",
       "    </tr>\n",
       "    <tr>\n",
       "      <th>1968</th>\n",
       "      <td>0.723905</td>\n",
       "      <td>0.7239</td>\n",
       "      <td>1127.0</td>\n",
       "      <td>24250.0</td>\n",
       "      <td>762.0</td>\n",
       "      <td>715.0</td>\n",
       "      <td>689.0</td>\n",
       "      <td>733.0</td>\n",
       "      <td>46670.0</td>\n",
       "      <td>0.028</td>\n",
       "      <td>758.0</td>\n",
       "      <td>506.0</td>\n",
       "      <td>57631.0</td>\n",
       "    </tr>\n",
       "    <tr>\n",
       "      <th>1971</th>\n",
       "      <td>0.390216</td>\n",
       "      <td>0.3902</td>\n",
       "      <td>1358.0</td>\n",
       "      <td>22670.5</td>\n",
       "      <td>496.0</td>\n",
       "      <td>360.0</td>\n",
       "      <td>88.0</td>\n",
       "      <td>223.0</td>\n",
       "      <td>59743.0</td>\n",
       "      <td>0.003</td>\n",
       "      <td>288.0</td>\n",
       "      <td>204.0</td>\n",
       "      <td>84892.0</td>\n",
       "    </tr>\n",
       "    <tr>\n",
       "      <th>1972</th>\n",
       "      <td>0.828631</td>\n",
       "      <td>0.8286</td>\n",
       "      <td>1131.0</td>\n",
       "      <td>24000.0</td>\n",
       "      <td>2397.0</td>\n",
       "      <td>2350.0</td>\n",
       "      <td>3229.0</td>\n",
       "      <td>3246.0</td>\n",
       "      <td>18961.0</td>\n",
       "      <td>0.062</td>\n",
       "      <td>2303.0</td>\n",
       "      <td>2423.0</td>\n",
       "      <td>53692.0</td>\n",
       "    </tr>\n",
       "    <tr>\n",
       "      <th>1974</th>\n",
       "      <td>0.704832</td>\n",
       "      <td>0.7048</td>\n",
       "      <td>1196.0</td>\n",
       "      <td>25332.5</td>\n",
       "      <td>1226.0</td>\n",
       "      <td>1124.0</td>\n",
       "      <td>494.0</td>\n",
       "      <td>589.0</td>\n",
       "      <td>48767.0</td>\n",
       "      <td>0.014</td>\n",
       "      <td>1000.0</td>\n",
       "      <td>566.0</td>\n",
       "      <td>89744.0</td>\n",
       "    </tr>\n",
       "    <tr>\n",
       "      <th>1975</th>\n",
       "      <td>1.000000</td>\n",
       "      <td>1.0000</td>\n",
       "      <td>892.0</td>\n",
       "      <td>15340.5</td>\n",
       "      <td>264.0</td>\n",
       "      <td>210.0</td>\n",
       "      <td>491.0</td>\n",
       "      <td>540.0</td>\n",
       "      <td>15497.0</td>\n",
       "      <td>0.130</td>\n",
       "      <td>412.0</td>\n",
       "      <td>346.0</td>\n",
       "      <td>32022.0</td>\n",
       "    </tr>\n",
       "    <tr>\n",
       "      <th>1976</th>\n",
       "      <td>0.442855</td>\n",
       "      <td>0.4458</td>\n",
       "      <td>1288.0</td>\n",
       "      <td>20185.0</td>\n",
       "      <td>8193.0</td>\n",
       "      <td>6802.0</td>\n",
       "      <td>4616.0</td>\n",
       "      <td>5924.0</td>\n",
       "      <td>24823.0</td>\n",
       "      <td>0.022</td>\n",
       "      <td>6522.0</td>\n",
       "      <td>5457.0</td>\n",
       "      <td>73164.0</td>\n",
       "    </tr>\n",
       "    <tr>\n",
       "      <th>1978</th>\n",
       "      <td>0.842007</td>\n",
       "      <td>0.8420</td>\n",
       "      <td>1185.0</td>\n",
       "      <td>24141.0</td>\n",
       "      <td>987.0</td>\n",
       "      <td>473.0</td>\n",
       "      <td>1362.0</td>\n",
       "      <td>1866.0</td>\n",
       "      <td>33183.0</td>\n",
       "      <td>0.156</td>\n",
       "      <td>1489.0</td>\n",
       "      <td>739.0</td>\n",
       "      <td>27411.0</td>\n",
       "    </tr>\n",
       "    <tr>\n",
       "      <th>1979</th>\n",
       "      <td>0.787253</td>\n",
       "      <td>0.7873</td>\n",
       "      <td>1118.0</td>\n",
       "      <td>20000.0</td>\n",
       "      <td>3819.0</td>\n",
       "      <td>3015.0</td>\n",
       "      <td>3444.0</td>\n",
       "      <td>4205.0</td>\n",
       "      <td>22704.0</td>\n",
       "      <td>0.076</td>\n",
       "      <td>3064.0</td>\n",
       "      <td>2107.0</td>\n",
       "      <td>46324.0</td>\n",
       "    </tr>\n",
       "    <tr>\n",
       "      <th>1980</th>\n",
       "      <td>0.576844</td>\n",
       "      <td>0.5786</td>\n",
       "      <td>1043.0</td>\n",
       "      <td>16875.0</td>\n",
       "      <td>931.0</td>\n",
       "      <td>775.0</td>\n",
       "      <td>1368.0</td>\n",
       "      <td>1506.0</td>\n",
       "      <td>33700.0</td>\n",
       "      <td>0.074</td>\n",
       "      <td>840.0</td>\n",
       "      <td>425.0</td>\n",
       "      <td>37015.0</td>\n",
       "    </tr>\n",
       "    <tr>\n",
       "      <th>1981</th>\n",
       "      <td>0.824821</td>\n",
       "      <td>0.8248</td>\n",
       "      <td>1106.0</td>\n",
       "      <td>25000.0</td>\n",
       "      <td>805.0</td>\n",
       "      <td>568.0</td>\n",
       "      <td>840.0</td>\n",
       "      <td>1070.0</td>\n",
       "      <td>28313.0</td>\n",
       "      <td>0.057</td>\n",
       "      <td>972.0</td>\n",
       "      <td>625.0</td>\n",
       "      <td>39945.0</td>\n",
       "    </tr>\n",
       "    <tr>\n",
       "      <th>1982</th>\n",
       "      <td>0.568884</td>\n",
       "      <td>0.5689</td>\n",
       "      <td>1071.0</td>\n",
       "      <td>20192.0</td>\n",
       "      <td>642.0</td>\n",
       "      <td>417.0</td>\n",
       "      <td>1190.0</td>\n",
       "      <td>1388.0</td>\n",
       "      <td>24959.0</td>\n",
       "      <td>0.076</td>\n",
       "      <td>1239.0</td>\n",
       "      <td>305.0</td>\n",
       "      <td>24043.0</td>\n",
       "    </tr>\n",
       "    <tr>\n",
       "      <th>1983</th>\n",
       "      <td>0.763575</td>\n",
       "      <td>0.7636</td>\n",
       "      <td>1145.0</td>\n",
       "      <td>21700.0</td>\n",
       "      <td>4010.0</td>\n",
       "      <td>4031.0</td>\n",
       "      <td>3528.0</td>\n",
       "      <td>3472.0</td>\n",
       "      <td>21758.0</td>\n",
       "      <td>0.026</td>\n",
       "      <td>3366.0</td>\n",
       "      <td>3652.0</td>\n",
       "      <td>70761.0</td>\n",
       "    </tr>\n",
       "    <tr>\n",
       "      <th>1984</th>\n",
       "      <td>0.813481</td>\n",
       "      <td>0.7951</td>\n",
       "      <td>995.0</td>\n",
       "      <td>26000.0</td>\n",
       "      <td>1596.0</td>\n",
       "      <td>1244.0</td>\n",
       "      <td>1785.0</td>\n",
       "      <td>2110.0</td>\n",
       "      <td>45144.0</td>\n",
       "      <td>0.049</td>\n",
       "      <td>1778.0</td>\n",
       "      <td>1237.0</td>\n",
       "      <td>40163.0</td>\n",
       "    </tr>\n",
       "    <tr>\n",
       "      <th>1986</th>\n",
       "      <td>0.596961</td>\n",
       "      <td>0.5970</td>\n",
       "      <td>855.0</td>\n",
       "      <td>29500.0</td>\n",
       "      <td>475.0</td>\n",
       "      <td>238.0</td>\n",
       "      <td>918.0</td>\n",
       "      <td>1147.0</td>\n",
       "      <td>40706.0</td>\n",
       "      <td>0.136</td>\n",
       "      <td>858.0</td>\n",
       "      <td>461.0</td>\n",
       "      <td>24942.0</td>\n",
       "    </tr>\n",
       "    <tr>\n",
       "      <th>1987</th>\n",
       "      <td>0.867622</td>\n",
       "      <td>0.8676</td>\n",
       "      <td>929.0</td>\n",
       "      <td>25500.0</td>\n",
       "      <td>561.0</td>\n",
       "      <td>418.0</td>\n",
       "      <td>364.0</td>\n",
       "      <td>501.0</td>\n",
       "      <td>42381.0</td>\n",
       "      <td>0.056</td>\n",
       "      <td>633.0</td>\n",
       "      <td>397.0</td>\n",
       "      <td>50164.0</td>\n",
       "    </tr>\n",
       "    <tr>\n",
       "      <th>1989</th>\n",
       "      <td>0.533750</td>\n",
       "      <td>0.5960</td>\n",
       "      <td>988.0</td>\n",
       "      <td>21500.0</td>\n",
       "      <td>6123.0</td>\n",
       "      <td>5004.0</td>\n",
       "      <td>2688.0</td>\n",
       "      <td>3773.0</td>\n",
       "      <td>14647.0</td>\n",
       "      <td>0.022</td>\n",
       "      <td>3828.0</td>\n",
       "      <td>3538.0</td>\n",
       "      <td>68900.0</td>\n",
       "    </tr>\n",
       "    <tr>\n",
       "      <th>1992</th>\n",
       "      <td>0.533750</td>\n",
       "      <td>0.6016</td>\n",
       "      <td>1046.0</td>\n",
       "      <td>21500.0</td>\n",
       "      <td>6123.0</td>\n",
       "      <td>5004.0</td>\n",
       "      <td>2688.0</td>\n",
       "      <td>3773.0</td>\n",
       "      <td>14538.0</td>\n",
       "      <td>0.022</td>\n",
       "      <td>3828.0</td>\n",
       "      <td>3538.0</td>\n",
       "      <td>68900.0</td>\n",
       "    </tr>\n",
       "    <tr>\n",
       "      <th>2018</th>\n",
       "      <td>0.804937</td>\n",
       "      <td>0.8049</td>\n",
       "      <td>965.0</td>\n",
       "      <td>25000.0</td>\n",
       "      <td>718.0</td>\n",
       "      <td>586.0</td>\n",
       "      <td>848.0</td>\n",
       "      <td>974.0</td>\n",
       "      <td>26977.0</td>\n",
       "      <td>0.081</td>\n",
       "      <td>730.0</td>\n",
       "      <td>588.0</td>\n",
       "      <td>54455.0</td>\n",
       "    </tr>\n",
       "    <tr>\n",
       "      <th>2060</th>\n",
       "      <td>0.447999</td>\n",
       "      <td>0.4686</td>\n",
       "      <td>1099.0</td>\n",
       "      <td>19147.5</td>\n",
       "      <td>10236.0</td>\n",
       "      <td>5360.0</td>\n",
       "      <td>6701.0</td>\n",
       "      <td>11440.0</td>\n",
       "      <td>18556.0</td>\n",
       "      <td>0.052</td>\n",
       "      <td>8431.0</td>\n",
       "      <td>5532.0</td>\n",
       "      <td>32298.0</td>\n",
       "    </tr>\n",
       "    <tr>\n",
       "      <th>2066</th>\n",
       "      <td>0.109767</td>\n",
       "      <td>0.1098</td>\n",
       "      <td>1506.0</td>\n",
       "      <td>14710.0</td>\n",
       "      <td>57.0</td>\n",
       "      <td>62.0</td>\n",
       "      <td>18.0</td>\n",
       "      <td>13.0</td>\n",
       "      <td>63801.0</td>\n",
       "      <td>0.000</td>\n",
       "      <td>13.0</td>\n",
       "      <td>15.0</td>\n",
       "      <td>89555.0</td>\n",
       "    </tr>\n",
       "    <tr>\n",
       "      <th>2069</th>\n",
       "      <td>0.596244</td>\n",
       "      <td>0.5962</td>\n",
       "      <td>925.0</td>\n",
       "      <td>13837.0</td>\n",
       "      <td>29.0</td>\n",
       "      <td>28.0</td>\n",
       "      <td>73.0</td>\n",
       "      <td>74.0</td>\n",
       "      <td>27720.0</td>\n",
       "      <td>0.175</td>\n",
       "      <td>25.0</td>\n",
       "      <td>65.0</td>\n",
       "      <td>29535.0</td>\n",
       "    </tr>\n",
       "    <tr>\n",
       "      <th>2073</th>\n",
       "      <td>0.461197</td>\n",
       "      <td>0.4612</td>\n",
       "      <td>1229.0</td>\n",
       "      <td>22288.5</td>\n",
       "      <td>82.0</td>\n",
       "      <td>26.0</td>\n",
       "      <td>21.0</td>\n",
       "      <td>76.0</td>\n",
       "      <td>44550.0</td>\n",
       "      <td>0.022</td>\n",
       "      <td>47.0</td>\n",
       "      <td>29.0</td>\n",
       "      <td>42630.0</td>\n",
       "    </tr>\n",
       "    <tr>\n",
       "      <th>2103</th>\n",
       "      <td>0.700855</td>\n",
       "      <td>0.7009</td>\n",
       "      <td>1003.0</td>\n",
       "      <td>27000.0</td>\n",
       "      <td>48.0</td>\n",
       "      <td>52.0</td>\n",
       "      <td>100.0</td>\n",
       "      <td>96.0</td>\n",
       "      <td>34244.0</td>\n",
       "      <td>0.097</td>\n",
       "      <td>102.0</td>\n",
       "      <td>87.0</td>\n",
       "      <td>40675.0</td>\n",
       "    </tr>\n",
       "  </tbody>\n",
       "</table>\n",
       "<p>1184 rows × 13 columns</p>\n",
       "</div>"
      ],
      "text/plain": [
       "      admissions admission_rate by_ope_id  admissions admission_rate overall  \\\n",
       "0                                0.583180                             0.5832   \n",
       "1                                0.747752                             0.7478   \n",
       "2                                0.567874                             0.5679   \n",
       "3                                0.762614                             0.7626   \n",
       "4                                0.641537                             0.6415   \n",
       "5                                0.706314                             0.7063   \n",
       "6                                0.891055                             0.8911   \n",
       "7                                0.716882                             0.7169   \n",
       "8                                0.934675                             0.9347   \n",
       "9                                0.853928                             0.8539   \n",
       "10                               0.918886                             0.9189   \n",
       "13                               0.798681                             0.7987   \n",
       "14                               0.823789                             0.8238   \n",
       "15                               0.761423                             0.7614   \n",
       "16                               0.591795                             0.5918   \n",
       "17                               0.949053                             0.9491   \n",
       "19                               0.876500                             0.8765   \n",
       "20                               0.785629                             0.7856   \n",
       "21                               0.820453                             0.8205   \n",
       "22                               0.638445                             0.6384   \n",
       "23                               0.214485                             0.2145   \n",
       "24                               0.694444                             0.6944   \n",
       "25                               0.666272                             0.6663   \n",
       "26                               0.772958                             0.7730   \n",
       "28                               0.767612                             0.7676   \n",
       "29                               0.535011                             0.5350   \n",
       "31                               0.735835                             0.7358   \n",
       "32                               0.622709                             0.6227   \n",
       "33                               0.918885                             0.9189   \n",
       "34                               0.774902                             0.7749   \n",
       "...                                   ...                                ...   \n",
       "1957                             0.776088                             0.7761   \n",
       "1958                             0.597955                             0.5980   \n",
       "1959                             0.660072                             0.6601   \n",
       "1961                             0.778626                             0.7786   \n",
       "1962                             0.904685                             0.9047   \n",
       "1963                             0.641048                             0.6410   \n",
       "1964                             0.493819                             0.4938   \n",
       "1968                             0.723905                             0.7239   \n",
       "1971                             0.390216                             0.3902   \n",
       "1972                             0.828631                             0.8286   \n",
       "1974                             0.704832                             0.7048   \n",
       "1975                             1.000000                             1.0000   \n",
       "1976                             0.442855                             0.4458   \n",
       "1978                             0.842007                             0.8420   \n",
       "1979                             0.787253                             0.7873   \n",
       "1980                             0.576844                             0.5786   \n",
       "1981                             0.824821                             0.8248   \n",
       "1982                             0.568884                             0.5689   \n",
       "1983                             0.763575                             0.7636   \n",
       "1984                             0.813481                             0.7951   \n",
       "1986                             0.596961                             0.5970   \n",
       "1987                             0.867622                             0.8676   \n",
       "1989                             0.533750                             0.5960   \n",
       "1992                             0.533750                             0.6016   \n",
       "2018                             0.804937                             0.8049   \n",
       "2060                             0.447999                             0.4686   \n",
       "2066                             0.109767                             0.1098   \n",
       "2069                             0.596244                             0.5962   \n",
       "2073                             0.461197                             0.4612   \n",
       "2103                             0.700855                             0.7009   \n",
       "\n",
       "      admissions sat_scores average overall  \\\n",
       "0                                    1226.0   \n",
       "1                                    1029.0   \n",
       "2                                    1197.0   \n",
       "3                                    1025.0   \n",
       "4                                    1042.0   \n",
       "5                                    1028.0   \n",
       "6                                    1143.0   \n",
       "7                                    1159.0   \n",
       "8                                    1145.0   \n",
       "9                                    1047.0   \n",
       "10                                   1068.0   \n",
       "13                                   1070.0   \n",
       "14                                   1030.0   \n",
       "15                                   1030.0   \n",
       "16                                   1032.0   \n",
       "17                                   1127.0   \n",
       "19                                   1054.0   \n",
       "20                                    911.0   \n",
       "21                                   1029.0   \n",
       "22                                   1105.0   \n",
       "23                                    803.0   \n",
       "24                                    969.0   \n",
       "25                                   1030.0   \n",
       "26                                   1049.0   \n",
       "28                                   1026.0   \n",
       "29                                   1024.0   \n",
       "31                                    992.0   \n",
       "32                                   1105.0   \n",
       "33                                   1027.0   \n",
       "34                                   1027.0   \n",
       "...                                     ...   \n",
       "1957                                 1046.0   \n",
       "1958                                 1146.0   \n",
       "1959                                 1096.0   \n",
       "1961                                 1145.0   \n",
       "1962                                 1058.0   \n",
       "1963                                 1110.0   \n",
       "1964                                 1160.0   \n",
       "1968                                 1127.0   \n",
       "1971                                 1358.0   \n",
       "1972                                 1131.0   \n",
       "1974                                 1196.0   \n",
       "1975                                  892.0   \n",
       "1976                                 1288.0   \n",
       "1978                                 1185.0   \n",
       "1979                                 1118.0   \n",
       "1980                                 1043.0   \n",
       "1981                                 1106.0   \n",
       "1982                                 1071.0   \n",
       "1983                                 1145.0   \n",
       "1984                                  995.0   \n",
       "1986                                  855.0   \n",
       "1987                                  929.0   \n",
       "1989                                  988.0   \n",
       "1992                                 1046.0   \n",
       "2018                                  965.0   \n",
       "2060                                 1099.0   \n",
       "2066                                 1506.0   \n",
       "2069                                  925.0   \n",
       "2073                                 1229.0   \n",
       "2103                                 1003.0   \n",
       "\n",
       "      aid median_debt completers overall  aid median_debt number completers  \\\n",
       "0                                24000.0                             4349.0   \n",
       "1                                25500.0                             4227.0   \n",
       "2                                25000.0                             3314.0   \n",
       "3                                25760.0                             1934.0   \n",
       "4                                24500.0                             1533.0   \n",
       "5                                23695.0                             3510.0   \n",
       "6                                22750.0                             4329.0   \n",
       "7                                19656.5                             3218.0   \n",
       "8                                20500.0                             4407.0   \n",
       "9                                25000.0                             1743.0   \n",
       "10                               24950.0                             2909.0   \n",
       "13                               22258.0                             4001.0   \n",
       "14                               26633.0                             5193.0   \n",
       "15                               27000.0                             2043.0   \n",
       "16                               27000.0                              748.0   \n",
       "17                               24400.0                             1045.0   \n",
       "19                               20000.0                             1267.0   \n",
       "20                               30750.0                             1075.0   \n",
       "21                               20238.0                             1188.0   \n",
       "22                               19865.0                             1248.0   \n",
       "23                               24348.0                              352.0   \n",
       "24                               23027.0                              222.0   \n",
       "25                               22575.5                             3198.0   \n",
       "26                               22276.5                             1712.0   \n",
       "28                               20500.0                              481.0   \n",
       "29                               25000.0                              328.0   \n",
       "31                               27000.0                             1721.0   \n",
       "32                               25750.0                             1671.0   \n",
       "33                               23250.0                              550.0   \n",
       "34                               17746.5                              556.0   \n",
       "...                                  ...                                ...   \n",
       "1957                             23250.0                              676.0   \n",
       "1958                             19500.0                              367.0   \n",
       "1959                             25750.0                              238.0   \n",
       "1961                             23125.0                              196.0   \n",
       "1962                             21087.5                              714.0   \n",
       "1963                             27000.0                              368.0   \n",
       "1964                             25000.0                              373.0   \n",
       "1968                             24250.0                              762.0   \n",
       "1971                             22670.5                              496.0   \n",
       "1972                             24000.0                             2397.0   \n",
       "1974                             25332.5                             1226.0   \n",
       "1975                             15340.5                              264.0   \n",
       "1976                             20185.0                             8193.0   \n",
       "1978                             24141.0                              987.0   \n",
       "1979                             20000.0                             3819.0   \n",
       "1980                             16875.0                              931.0   \n",
       "1981                             25000.0                              805.0   \n",
       "1982                             20192.0                              642.0   \n",
       "1983                             21700.0                             4010.0   \n",
       "1984                             26000.0                             1596.0   \n",
       "1986                             29500.0                              475.0   \n",
       "1987                             25500.0                              561.0   \n",
       "1989                             21500.0                             6123.0   \n",
       "1992                             21500.0                             6123.0   \n",
       "2018                             25000.0                              718.0   \n",
       "2060                             19147.5                            10236.0   \n",
       "2066                             14710.0                               57.0   \n",
       "2069                             13837.0                               29.0   \n",
       "2073                             22288.5                               82.0   \n",
       "2103                             27000.0                               48.0   \n",
       "\n",
       "      aid median_debt number no_pell_grant  \\\n",
       "0                                   5557.0   \n",
       "1                                   3151.0   \n",
       "2                                   3222.0   \n",
       "3                                   1778.0   \n",
       "4                                    959.0   \n",
       "5                                   2526.0   \n",
       "6                                   3963.0   \n",
       "7                                   2856.0   \n",
       "8                                   3926.0   \n",
       "9                                   1200.0   \n",
       "10                                  2380.0   \n",
       "13                                  3114.0   \n",
       "14                                  3787.0   \n",
       "15                                  1665.0   \n",
       "16                                   555.0   \n",
       "17                                  1056.0   \n",
       "19                                   900.0   \n",
       "20                                   599.0   \n",
       "21                                   985.0   \n",
       "22                                  1038.0   \n",
       "23                                   238.0   \n",
       "24                                   232.0   \n",
       "25                                  3306.0   \n",
       "26                                  1383.0   \n",
       "28                                   476.0   \n",
       "29                                   256.0   \n",
       "31                                  1185.0   \n",
       "32                                   949.0   \n",
       "33                                   404.0   \n",
       "34                                   712.0   \n",
       "...                                    ...   \n",
       "1957                                 633.0   \n",
       "1958                                 408.0   \n",
       "1959                                 197.0   \n",
       "1961                                 141.0   \n",
       "1962                                 463.0   \n",
       "1963                                 339.0   \n",
       "1964                                 320.0   \n",
       "1968                                 715.0   \n",
       "1971                                 360.0   \n",
       "1972                                2350.0   \n",
       "1974                                1124.0   \n",
       "1975                                 210.0   \n",
       "1976                                6802.0   \n",
       "1978                                 473.0   \n",
       "1979                                3015.0   \n",
       "1980                                 775.0   \n",
       "1981                                 568.0   \n",
       "1982                                 417.0   \n",
       "1983                                4031.0   \n",
       "1984                                1244.0   \n",
       "1986                                 238.0   \n",
       "1987                                 418.0   \n",
       "1989                                5004.0   \n",
       "1992                                5004.0   \n",
       "2018                                 586.0   \n",
       "2060                                5360.0   \n",
       "2066                                  62.0   \n",
       "2069                                  28.0   \n",
       "2073                                  26.0   \n",
       "2103                                  52.0   \n",
       "\n",
       "      aid median_debt number noncompleters  aid median_debt number pell_grant  \\\n",
       "0                                   5635.0                             4386.0   \n",
       "1                                   6205.0                             7204.0   \n",
       "2                                   3695.0                             3740.0   \n",
       "3                                   2266.0                             2405.0   \n",
       "4                                   1168.0                             1719.0   \n",
       "5                                   4743.0                             5682.0   \n",
       "6                                   3840.0                             4170.0   \n",
       "7                                   3544.0                             3881.0   \n",
       "8                                   3544.0                             4001.0   \n",
       "9                                   2794.0                             3312.0   \n",
       "10                                  3633.0                             4140.0   \n",
       "13                                  6963.0                             7761.0   \n",
       "14                                  4718.0                             6061.0   \n",
       "15                                  2640.0                             3001.0   \n",
       "16                                   759.0                              942.0   \n",
       "17                                   841.0                              821.0   \n",
       "19                                  1800.0                             2154.0   \n",
       "20                                  3327.0                             3781.0   \n",
       "21                                  2095.0                             2286.0   \n",
       "22                                  1441.0                             1625.0   \n",
       "23                                  1558.0                             1669.0   \n",
       "24                                   374.0                              361.0   \n",
       "25                                  3743.0                             3587.0   \n",
       "26                                  1516.0                             1819.0   \n",
       "28                                   659.0                              659.0   \n",
       "29                                   405.0                              475.0   \n",
       "31                                  2339.0                             2843.0   \n",
       "32                                  1702.0                             2400.0   \n",
       "33                                   672.0                              809.0   \n",
       "34                                  1422.0                             1253.0   \n",
       "...                                    ...                                ...   \n",
       "1957                                 546.0                              584.0   \n",
       "1958                                 381.0                              337.0   \n",
       "1959                                 151.0                              191.0   \n",
       "1961                                 151.0                              204.0   \n",
       "1962                                 859.0                             1100.0   \n",
       "1963                                 245.0                              271.0   \n",
       "1964                                 180.0                              233.0   \n",
       "1968                                 689.0                              733.0   \n",
       "1971                                  88.0                              223.0   \n",
       "1972                                3229.0                             3246.0   \n",
       "1974                                 494.0                              589.0   \n",
       "1975                                 491.0                              540.0   \n",
       "1976                                4616.0                             5924.0   \n",
       "1978                                1362.0                             1866.0   \n",
       "1979                                3444.0                             4205.0   \n",
       "1980                                1368.0                             1506.0   \n",
       "1981                                 840.0                             1070.0   \n",
       "1982                                1190.0                             1388.0   \n",
       "1983                                3528.0                             3472.0   \n",
       "1984                                1785.0                             2110.0   \n",
       "1986                                 918.0                             1147.0   \n",
       "1987                                 364.0                              501.0   \n",
       "1989                                2688.0                             3773.0   \n",
       "1992                                2688.0                             3773.0   \n",
       "2018                                 848.0                              974.0   \n",
       "2060                                6701.0                            11440.0   \n",
       "2066                                  18.0                               13.0   \n",
       "2069                                  73.0                               74.0   \n",
       "2073                                  21.0                               76.0   \n",
       "2103                                 100.0                               96.0   \n",
       "\n",
       "      cost attendance academic_year  repayment 3_yr_default_rate  \\\n",
       "0                           26726.0                        0.030   \n",
       "1                           19570.0                        0.086   \n",
       "2                           24804.0                        0.053   \n",
       "3                           24539.0                        0.054   \n",
       "4                           47322.0                        0.070   \n",
       "5                           19076.0                        0.106   \n",
       "6                           24738.0                        0.044   \n",
       "7                           23873.0                        0.072   \n",
       "8                           23733.0                        0.042   \n",
       "9                           18898.0                        0.080   \n",
       "10                          16212.0                        0.081   \n",
       "13                          21588.0                        0.063   \n",
       "14                          22561.0                        0.059   \n",
       "15                          18983.0                        0.062   \n",
       "16                          46545.0                        0.052   \n",
       "17                          45532.0                        0.017   \n",
       "19                          16944.0                        0.086   \n",
       "20                          18884.0                        0.115   \n",
       "21                          16571.0                        0.124   \n",
       "22                          18031.0                        0.067   \n",
       "23                          10754.0                        0.133   \n",
       "24                          23485.0                        0.093   \n",
       "25                          18577.0                        0.041   \n",
       "26                          19032.0                        0.053   \n",
       "28                          22317.0                        0.058   \n",
       "29                          31279.0                        0.043   \n",
       "31                          19927.0                        0.056   \n",
       "32                          18464.0                        0.046   \n",
       "33                          19944.0                        0.086   \n",
       "34                          33761.0                        0.051   \n",
       "...                             ...                          ...   \n",
       "1957                        41003.0                        0.023   \n",
       "1958                        23141.0                        0.062   \n",
       "1959                        44887.0                        0.050   \n",
       "1961                        23120.0                        0.006   \n",
       "1962                        30797.0                        0.100   \n",
       "1963                        42391.0                        0.021   \n",
       "1964                        44659.0                        0.045   \n",
       "1968                        46670.0                        0.028   \n",
       "1971                        59743.0                        0.003   \n",
       "1972                        18961.0                        0.062   \n",
       "1974                        48767.0                        0.014   \n",
       "1975                        15497.0                        0.130   \n",
       "1976                        24823.0                        0.022   \n",
       "1978                        33183.0                        0.156   \n",
       "1979                        22704.0                        0.076   \n",
       "1980                        33700.0                        0.074   \n",
       "1981                        28313.0                        0.057   \n",
       "1982                        24959.0                        0.076   \n",
       "1983                        21758.0                        0.026   \n",
       "1984                        45144.0                        0.049   \n",
       "1986                        40706.0                        0.136   \n",
       "1987                        42381.0                        0.056   \n",
       "1989                        14647.0                        0.022   \n",
       "1992                        14538.0                        0.022   \n",
       "2018                        26977.0                        0.081   \n",
       "2060                        18556.0                        0.052   \n",
       "2066                        63801.0                        0.000   \n",
       "2069                        27720.0                        0.175   \n",
       "2073                        44550.0                        0.022   \n",
       "2103                        34244.0                        0.097   \n",
       "\n",
       "      repayment 3_yr_repayment female_students  \\\n",
       "0                                       4445.0   \n",
       "1                                       5685.0   \n",
       "2                                       2076.0   \n",
       "3                                       1896.0   \n",
       "4                                       1701.0   \n",
       "5                                       4166.0   \n",
       "6                                       3244.0   \n",
       "7                                       3314.0   \n",
       "8                                       3679.0   \n",
       "9                                       2244.0   \n",
       "10                                      3605.0   \n",
       "13                                      6338.0   \n",
       "14                                      4702.0   \n",
       "15                                      2638.0   \n",
       "16                                       826.0   \n",
       "17                                      1094.0   \n",
       "19                                      1920.0   \n",
       "20                                      2189.0   \n",
       "21                                      1899.0   \n",
       "22                                      1303.0   \n",
       "23                                      1273.0   \n",
       "24                                       276.0   \n",
       "25                                      3245.0   \n",
       "26                                      2176.0   \n",
       "28                                       393.0   \n",
       "29                                       437.0   \n",
       "31                                      2306.0   \n",
       "32                                      1752.0   \n",
       "33                                       703.0   \n",
       "34                                       997.0   \n",
       "...                                        ...   \n",
       "1957                                     614.0   \n",
       "1958                                     395.0   \n",
       "1959                                     210.0   \n",
       "1961                                     165.0   \n",
       "1962                                     949.0   \n",
       "1963                                     311.0   \n",
       "1964                                     315.0   \n",
       "1968                                     758.0   \n",
       "1971                                     288.0   \n",
       "1972                                    2303.0   \n",
       "1974                                    1000.0   \n",
       "1975                                     412.0   \n",
       "1976                                    6522.0   \n",
       "1978                                    1489.0   \n",
       "1979                                    3064.0   \n",
       "1980                                     840.0   \n",
       "1981                                     972.0   \n",
       "1982                                    1239.0   \n",
       "1983                                    3366.0   \n",
       "1984                                    1778.0   \n",
       "1986                                     858.0   \n",
       "1987                                     633.0   \n",
       "1989                                    3828.0   \n",
       "1992                                    3828.0   \n",
       "2018                                     730.0   \n",
       "2060                                    8431.0   \n",
       "2066                                      13.0   \n",
       "2069                                      25.0   \n",
       "2073                                      47.0   \n",
       "2103                                     102.0   \n",
       "\n",
       "      repayment 3_yr_repayment male_students  \\\n",
       "0                                     4390.0   \n",
       "1                                     4073.0   \n",
       "2                                     2769.0   \n",
       "3                                     2056.0   \n",
       "4                                      863.0   \n",
       "5                                     2923.0   \n",
       "6                                     3083.0   \n",
       "7                                     2757.0   \n",
       "8                                     3551.0   \n",
       "9                                     1448.0   \n",
       "10                                    2695.0   \n",
       "13                                    3899.0   \n",
       "14                                    4518.0   \n",
       "15                                    1869.0   \n",
       "16                                     704.0   \n",
       "17                                     650.0   \n",
       "19                                     954.0   \n",
       "20                                    1410.0   \n",
       "21                                    1068.0   \n",
       "22                                    1230.0   \n",
       "23                                     419.0   \n",
       "24                                     310.0   \n",
       "25                                    2951.0   \n",
       "26                                    1605.0   \n",
       "28                                     442.0   \n",
       "29                                     305.0   \n",
       "31                                    1321.0   \n",
       "32                                    1283.0   \n",
       "33                                     663.0   \n",
       "34                                     605.0   \n",
       "...                                      ...   \n",
       "1957                                   463.0   \n",
       "1958                                   297.0   \n",
       "1959                                   177.0   \n",
       "1961                                   145.0   \n",
       "1962                                   478.0   \n",
       "1963                                   187.0   \n",
       "1964                                   226.0   \n",
       "1968                                   506.0   \n",
       "1971                                   204.0   \n",
       "1972                                  2423.0   \n",
       "1974                                   566.0   \n",
       "1975                                   346.0   \n",
       "1976                                  5457.0   \n",
       "1978                                   739.0   \n",
       "1979                                  2107.0   \n",
       "1980                                   425.0   \n",
       "1981                                   625.0   \n",
       "1982                                   305.0   \n",
       "1983                                  3652.0   \n",
       "1984                                  1237.0   \n",
       "1986                                   461.0   \n",
       "1987                                   397.0   \n",
       "1989                                  3538.0   \n",
       "1992                                  3538.0   \n",
       "2018                                   588.0   \n",
       "2060                                  5532.0   \n",
       "2066                                    15.0   \n",
       "2069                                    65.0   \n",
       "2073                                    29.0   \n",
       "2103                                    87.0   \n",
       "\n",
       "      student demographics median_family_income  \n",
       "0                                       74146.0  \n",
       "1                                       36618.0  \n",
       "2                                       53644.0  \n",
       "3                                       48473.0  \n",
       "4                                       42388.0  \n",
       "5                                       37152.0  \n",
       "6                                       61106.0  \n",
       "7                                       46439.0  \n",
       "8                                       59818.0  \n",
       "9                                       34684.0  \n",
       "10                                      46687.0  \n",
       "13                                      26508.0  \n",
       "14                                      49809.0  \n",
       "15                                      49626.0  \n",
       "16                                      42148.0  \n",
       "17                                      76094.0  \n",
       "19                                      31469.0  \n",
       "20                                      22307.0  \n",
       "21                                      33274.0  \n",
       "22                                      45985.0  \n",
       "23                                      15353.0  \n",
       "24                                      31598.0  \n",
       "25                                      66690.0  \n",
       "26                                      60857.0  \n",
       "28                                      49322.0  \n",
       "29                                      53858.0  \n",
       "31                                      29077.0  \n",
       "32                                      24501.0  \n",
       "33                                      44102.0  \n",
       "34                                      35620.0  \n",
       "...                                         ...  \n",
       "1957                                    59561.0  \n",
       "1958                                    59293.0  \n",
       "1959                                    50133.0  \n",
       "1961                                    61938.0  \n",
       "1962                                    37359.0  \n",
       "1963                                    72297.0  \n",
       "1964                                    69131.0  \n",
       "1968                                    57631.0  \n",
       "1971                                    84892.0  \n",
       "1972                                    53692.0  \n",
       "1974                                    89744.0  \n",
       "1975                                    32022.0  \n",
       "1976                                    73164.0  \n",
       "1978                                    27411.0  \n",
       "1979                                    46324.0  \n",
       "1980                                    37015.0  \n",
       "1981                                    39945.0  \n",
       "1982                                    24043.0  \n",
       "1983                                    70761.0  \n",
       "1984                                    40163.0  \n",
       "1986                                    24942.0  \n",
       "1987                                    50164.0  \n",
       "1989                                    68900.0  \n",
       "1992                                    68900.0  \n",
       "2018                                    54455.0  \n",
       "2060                                    32298.0  \n",
       "2066                                    89555.0  \n",
       "2069                                    29535.0  \n",
       "2073                                    42630.0  \n",
       "2103                                    40675.0  \n",
       "\n",
       "[1184 rows x 13 columns]"
      ]
     },
     "execution_count": 40,
     "metadata": {},
     "output_type": "execute_result"
    }
   ],
   "source": [
    "X"
   ]
  },
  {
   "cell_type": "code",
   "execution_count": 41,
   "metadata": {},
   "outputs": [
    {
     "data": {
      "text/plain": [
       "Index(['admissions admission_rate by_ope_id',\n",
       "       'admissions admission_rate overall',\n",
       "       'admissions sat_scores average overall',\n",
       "       'aid median_debt completers overall',\n",
       "       'aid median_debt number completers',\n",
       "       'aid median_debt number no_pell_grant',\n",
       "       'aid median_debt number noncompleters',\n",
       "       'aid median_debt number pell_grant', 'cost attendance academic_year',\n",
       "       'repayment 3_yr_default_rate',\n",
       "       'repayment 3_yr_repayment female_students',\n",
       "       'repayment 3_yr_repayment male_students',\n",
       "       'student demographics median_family_income'],\n",
       "      dtype='object')"
      ]
     },
     "execution_count": 41,
     "metadata": {},
     "output_type": "execute_result"
    }
   ],
   "source": [
    "X.columns"
   ]
  },
  {
   "cell_type": "code",
   "execution_count": 42,
   "metadata": {
    "collapsed": true
   },
   "outputs": [],
   "source": [
    "y = df['completion completion_rate_4yr_100nt']"
   ]
  },
  {
   "cell_type": "markdown",
   "metadata": {},
   "source": [
    "# Train, Test, Split"
   ]
  },
  {
   "cell_type": "code",
   "execution_count": 43,
   "metadata": {
    "collapsed": true
   },
   "outputs": [],
   "source": [
    "X_train, X_test, y_train, y_test = train_test_split(X,y, test_size=.33, random_state=100)"
   ]
  },
  {
   "cell_type": "code",
   "execution_count": 44,
   "metadata": {},
   "outputs": [
    {
     "data": {
      "text/plain": [
       "((793, 13), (793,))"
      ]
     },
     "execution_count": 44,
     "metadata": {},
     "output_type": "execute_result"
    }
   ],
   "source": [
    "X_train.shape, y_train.shape"
   ]
  },
  {
   "cell_type": "code",
   "execution_count": 45,
   "metadata": {},
   "outputs": [
    {
     "data": {
      "text/plain": [
       "((391, 13), (391,))"
      ]
     },
     "execution_count": 45,
     "metadata": {},
     "output_type": "execute_result"
    }
   ],
   "source": [
    " X_test.shape, y_test.shape"
   ]
  },
  {
   "cell_type": "markdown",
   "metadata": {},
   "source": [
    "# Linear Regression Model"
   ]
  },
  {
   "cell_type": "code",
   "execution_count": 46,
   "metadata": {
    "collapsed": true
   },
   "outputs": [],
   "source": [
    "lr = LinearRegression()"
   ]
  },
  {
   "cell_type": "code",
   "execution_count": 47,
   "metadata": {},
   "outputs": [
    {
     "data": {
      "text/plain": [
       "LinearRegression(copy_X=True, fit_intercept=True, n_jobs=1, normalize=False)"
      ]
     },
     "execution_count": 47,
     "metadata": {},
     "output_type": "execute_result"
    }
   ],
   "source": [
    "lr.fit(X_train, y_train)"
   ]
  },
  {
   "cell_type": "code",
   "execution_count": 48,
   "metadata": {},
   "outputs": [
    {
     "data": {
      "text/plain": [
       "0.75443751288460814"
      ]
     },
     "execution_count": 48,
     "metadata": {},
     "output_type": "execute_result"
    }
   ],
   "source": [
    "lr.score(X_train, y_train)"
   ]
  },
  {
   "cell_type": "code",
   "execution_count": 49,
   "metadata": {},
   "outputs": [
    {
     "data": {
      "text/plain": [
       "0.76776935972535298"
      ]
     },
     "execution_count": 49,
     "metadata": {},
     "output_type": "execute_result"
    }
   ],
   "source": [
    "lr.score(X_test, y_test)"
   ]
  },
  {
   "cell_type": "code",
   "execution_count": 50,
   "metadata": {},
   "outputs": [
    {
     "data": {
      "text/plain": [
       "array([ -7.57456217e-02,   7.22214222e-03,   4.98949737e-04,\n",
       "        -1.55875248e-07,   3.16293074e-04,  -2.87432680e-04,\n",
       "         2.82394802e-04,  -2.93124846e-04,   4.64626592e-06,\n",
       "        -3.79893729e-01,   6.30854273e-06,  -3.68442779e-05,\n",
       "         2.77268454e-06])"
      ]
     },
     "execution_count": 50,
     "metadata": {},
     "output_type": "execute_result"
    }
   ],
   "source": [
    "lr.coef_"
   ]
  },
  {
   "cell_type": "code",
   "execution_count": 51,
   "metadata": {},
   "outputs": [
    {
     "name": "stdout",
     "output_type": "stream",
     "text": [
      "Cross-validated scores = [ 0.73238807  0.77735263  0.77728781  0.70303711  0.74411253]\n"
     ]
    }
   ],
   "source": [
    "scores = cross_val_score(lr, X, y, cv=5)\n",
    "print('Cross-validated scores =', scores) # check for overfitting using X and y...."
   ]
  },
  {
   "cell_type": "code",
   "execution_count": 52,
   "metadata": {},
   "outputs": [
    {
     "data": {
      "text/plain": [
       "[<matplotlib.lines.Line2D at 0x1224e5978>]"
      ]
     },
     "execution_count": 52,
     "metadata": {},
     "output_type": "execute_result"
    },
    {
     "data": {
      "image/png": "[encoded data removed]",
      "text/plain": [
       "<matplotlib.figure.Figure at 0x1224e56d8>"
      ]
     },
     "metadata": {},
     "output_type": "display_data"
    }
   ],
   "source": [
    "predictions = lr.predict(X_test)\n",
    "plt.scatter(y_test, predictions)\n",
    "plt.plot(predictions,predictions, color='red')\n"
   ]
  },
  {
   "cell_type": "code",
   "execution_count": 53,
   "metadata": {},
   "outputs": [
    {
     "name": "stdout",
     "output_type": "stream",
     "text": [
      "Cross-Predicted R2 = 0.767769359725\n"
     ]
    }
   ],
   "source": [
    "r2 = r2_score(y_test, predictions)\n",
    "print('Cross-Predicted R2 =', r2)"
   ]
  },
  {
   "cell_type": "markdown",
   "metadata": {
    "collapsed": true
   },
   "source": [
    "# Random Forest Model"
   ]
  },
  {
   "cell_type": "code",
   "execution_count": 54,
   "metadata": {
    "collapsed": true
   },
   "outputs": [],
   "source": [
    "rf = RandomForestRegressor()"
   ]
  },
  {
   "cell_type": "code",
   "execution_count": 55,
   "metadata": {},
   "outputs": [
    {
     "data": {
      "text/plain": [
       "RandomForestRegressor(bootstrap=True, criterion='mse', max_depth=None,\n",
       "           max_features='auto', max_leaf_nodes=None,\n",
       "           min_impurity_split=1e-07, min_samples_leaf=1,\n",
       "           min_samples_split=2, min_weight_fraction_leaf=0.0,\n",
       "           n_estimators=10, n_jobs=1, oob_score=False, random_state=None,\n",
       "           verbose=0, warm_start=False)"
      ]
     },
     "execution_count": 55,
     "metadata": {},
     "output_type": "execute_result"
    }
   ],
   "source": [
    "rf.fit(X_train, y_train)"
   ]
  },
  {
   "cell_type": "code",
   "execution_count": 56,
   "metadata": {},
   "outputs": [
    {
     "data": {
      "text/plain": [
       "0.95490686483215947"
      ]
     },
     "execution_count": 56,
     "metadata": {},
     "output_type": "execute_result"
    }
   ],
   "source": [
    "rf.score(X_train, y_train)"
   ]
  },
  {
   "cell_type": "code",
   "execution_count": 57,
   "metadata": {},
   "outputs": [
    {
     "data": {
      "text/plain": [
       "0.75995853463300644"
      ]
     },
     "execution_count": 57,
     "metadata": {},
     "output_type": "execute_result"
    }
   ],
   "source": [
    "rf.score(X_test, y_test)"
   ]
  },
  {
   "cell_type": "code",
   "execution_count": 58,
   "metadata": {},
   "outputs": [
    {
     "name": "stdout",
     "output_type": "stream",
     "text": [
      "Cross-validated scores = [ 0.73238807  0.77735263  0.77728781  0.70303711  0.74411253]\n"
     ]
    }
   ],
   "source": [
    "scores = cross_val_score(lr, X, y, cv=5)\n",
    "print('Cross-validated scores =', scores)"
   ]
  },
  {
   "cell_type": "code",
   "execution_count": 59,
   "metadata": {
    "scrolled": true
   },
   "outputs": [
    {
     "data": {
      "text/plain": [
       "[<matplotlib.lines.Line2D at 0x121d33e10>]"
      ]
     },
     "execution_count": 59,
     "metadata": {},
     "output_type": "execute_result"
    },
    {
     "data": {
      "image/png": "[encoded data removed]",
      "text/plain": [
       "<matplotlib.figure.Figure at 0x122a10cf8>"
      ]
     },
     "metadata": {},
     "output_type": "display_data"
    }
   ],
   "source": [
    "predictions = rf.predict(X_test)\n",
    "plt.scatter(y_test, predictions)\n",
    "plt.plot(predictions,predictions, color='red')\n"
   ]
  },
  {
   "cell_type": "markdown",
   "metadata": {},
   "source": [
    "# GridCV with Lasso Model"
   ]
  },
  {
   "cell_type": "code",
   "execution_count": 60,
   "metadata": {
    "collapsed": true
   },
   "outputs": [],
   "source": [
    "ls = Lasso()"
   ]
  },
  {
   "cell_type": "code",
   "execution_count": 61,
   "metadata": {
    "collapsed": true
   },
   "outputs": [],
   "source": [
    "params = {'alpha': [.1,100]}"
   ]
  },
  {
   "cell_type": "code",
   "execution_count": 62,
   "metadata": {
    "collapsed": true
   },
   "outputs": [],
   "source": [
    " grid = GridSearchCV(ls,param_grid=params, cv=5, n_jobs=-1)"
   ]
  },
  {
   "cell_type": "code",
   "execution_count": 63,
   "metadata": {},
   "outputs": [
    {
     "name": "stderr",
     "output_type": "stream",
     "text": [
      "/anaconda/lib/python3.6/site-packages/sklearn/linear_model/coordinate_descent.py:484: ConvergenceWarning: Objective did not converge. You might want to increase the number of iterations. Fitting data with very small alpha may cause precision problems.\n",
      "  ConvergenceWarning)\n"
     ]
    },
    {
     "data": {
      "text/plain": [
       "GridSearchCV(cv=5, error_score='raise',\n",
       "       estimator=Lasso(alpha=1.0, copy_X=True, fit_intercept=True, max_iter=1000,\n",
       "   normalize=False, positive=False, precompute=False, random_state=None,\n",
       "   selection='cyclic', tol=0.0001, warm_start=False),\n",
       "       fit_params={}, iid=True, n_jobs=-1,\n",
       "       param_grid={'alpha': [0.1, 100]}, pre_dispatch='2*n_jobs',\n",
       "       refit=True, return_train_score=True, scoring=None, verbose=0)"
      ]
     },
     "execution_count": 63,
     "metadata": {},
     "output_type": "execute_result"
    }
   ],
   "source": [
    "grid.fit(X_train, y_train)"
   ]
  },
  {
   "cell_type": "code",
   "execution_count": 64,
   "metadata": {},
   "outputs": [
    {
     "data": {
      "text/plain": [
       "0.74899483881571571"
      ]
     },
     "execution_count": 64,
     "metadata": {},
     "output_type": "execute_result"
    }
   ],
   "source": [
    "grid.score(X_train, y_train)"
   ]
  },
  {
   "cell_type": "code",
   "execution_count": 65,
   "metadata": {},
   "outputs": [
    {
     "data": {
      "text/plain": [
       "0.76347802300698164"
      ]
     },
     "execution_count": 65,
     "metadata": {},
     "output_type": "execute_result"
    }
   ],
   "source": [
    "grid.score(X_test, y_test)"
   ]
  },
  {
   "cell_type": "code",
   "execution_count": 70,
   "metadata": {},
   "outputs": [
    {
     "data": {
      "text/plain": [
       "0.74181109851221771"
      ]
     },
     "execution_count": 70,
     "metadata": {},
     "output_type": "execute_result"
    }
   ],
   "source": [
    "grid.best_score_"
   ]
  },
  {
   "cell_type": "code",
   "execution_count": 66,
   "metadata": {},
   "outputs": [
    {
     "name": "stdout",
     "output_type": "stream",
     "text": [
      "Cross-validated scores = [ 0.73238807  0.77735263  0.77728781  0.70303711  0.74411253]\n"
     ]
    }
   ],
   "source": [
    "scores = cross_val_score(lr, X, y, cv=5)\n",
    "print('Cross-validated scores =', scores)"
   ]
  },
  {
   "cell_type": "code",
   "execution_count": 67,
   "metadata": {},
   "outputs": [
    {
     "data": {
      "text/plain": [
       "[<matplotlib.lines.Line2D at 0x12196df28>]"
      ]
     },
     "execution_count": 67,
     "metadata": {},
     "output_type": "execute_result"
    },
    {
     "data": {
      "image/png": "[encoded data removed]",
      "text/plain": [
       "<matplotlib.figure.Figure at 0x122a36be0>"
      ]
     },
     "metadata": {},
     "output_type": "display_data"
    }
   ],
   "source": [
    "predictions = rf.predict(X_test)\n",
    "plt.scatter(y_test, predictions)\n",
    "plt.plot(predictions,predictions, color='red')"
   ]
  },
  {
   "cell_type": "markdown",
   "metadata": {
    "collapsed": true
   },
   "source": [
    "# Keras Regression Model"
   ]
  },
  {
   "cell_type": "code",
   "execution_count": 103,
   "metadata": {
    "collapsed": true
   },
   "outputs": [],
   "source": [
    "Xs_train, Xs_test, ys_train, ys_test = train_test_split(X,y) "
   ]
  },
  {
   "cell_type": "code",
   "execution_count": 104,
   "metadata": {
    "collapsed": true
   },
   "outputs": [],
   "source": [
    "ss = StandardScaler()"
   ]
  },
  {
   "cell_type": "code",
   "execution_count": 105,
   "metadata": {
    "collapsed": true
   },
   "outputs": [],
   "source": [
    "Xs_train = ss.fit_transform(Xs_train)\n",
    "Xs_test = ss.transform(Xs_test)"
   ]
  },
  {
   "cell_type": "code",
   "execution_count": 106,
   "metadata": {
    "collapsed": true
   },
   "outputs": [],
   "source": [
    "model = Sequential()"
   ]
  },
  {
   "cell_type": "code",
   "execution_count": 107,
   "metadata": {},
   "outputs": [
    {
     "data": {
      "text/plain": [
       "(888, 13)"
      ]
     },
     "execution_count": 107,
     "metadata": {},
     "output_type": "execute_result"
    }
   ],
   "source": [
    "Xs_train.shape"
   ]
  },
  {
   "cell_type": "code",
   "execution_count": 118,
   "metadata": {},
   "outputs": [],
   "source": [
    "model.add(Dense(13, input_dim=Xs_train.shape[1], activation='relu'))\n",
    "model.add(Dense(1))"
   ]
  },
  {
   "cell_type": "code",
   "execution_count": 119,
   "metadata": {},
   "outputs": [
    {
     "data": {
      "text/plain": [
       "<bound method Sequential.compile of <keras.models.Sequential object at 0x12dc19710>>"
      ]
     },
     "execution_count": 119,
     "metadata": {},
     "output_type": "execute_result"
    }
   ],
   "source": [
    "model.compile"
   ]
  },
  {
   "cell_type": "code",
   "execution_count": 120,
   "metadata": {
    "collapsed": true
   },
   "outputs": [],
   "source": [
    "model.compile(loss='mean_squared_error', optimizer='adam', metrics=['accuracy'])"
   ]
  },
  {
   "cell_type": "code",
   "execution_count": 121,
   "metadata": {},
   "outputs": [
    {
     "name": "stdout",
     "output_type": "stream",
     "text": [
      "Train on 888 samples, validate on 296 samples\n",
      "Epoch 1/10\n",
      "888/888 [==============================] - 1s 599us/step - loss: 0.2078 - acc: 0.0023 - val_loss: 0.1689 - val_acc: 0.0068\n",
      "Epoch 2/10\n",
      "888/888 [==============================] - 0s 49us/step - loss: 0.1219 - acc: 0.0023 - val_loss: 0.1113 - val_acc: 0.0068\n",
      "Epoch 3/10\n",
      "888/888 [==============================] - 0s 51us/step - loss: 0.0806 - acc: 0.0023 - val_loss: 0.0773 - val_acc: 0.0068\n",
      "Epoch 4/10\n",
      "888/888 [==============================] - 0s 52us/step - loss: 0.0561 - acc: 0.0023 - val_loss: 0.0570 - val_acc: 0.0068\n",
      "Epoch 5/10\n",
      "888/888 [==============================] - 0s 52us/step - loss: 0.0411 - acc: 0.0023 - val_loss: 0.0430 - val_acc: 0.0068\n",
      "Epoch 6/10\n",
      "888/888 [==============================] - 0s 52us/step - loss: 0.0301 - acc: 0.0023 - val_loss: 0.0301 - val_acc: 0.0068\n",
      "Epoch 7/10\n",
      "888/888 [==============================] - 0s 51us/step - loss: 0.0207 - acc: 0.0023 - val_loss: 0.0211 - val_acc: 0.0068\n",
      "Epoch 8/10\n",
      "888/888 [==============================] - 0s 58us/step - loss: 0.0152 - acc: 0.0023 - val_loss: 0.0160 - val_acc: 0.0034\n",
      "Epoch 9/10\n",
      "888/888 [==============================] - 0s 46us/step - loss: 0.0122 - acc: 0.0023 - val_loss: 0.0136 - val_acc: 0.0034\n",
      "Epoch 10/10\n",
      "888/888 [==============================] - 0s 49us/step - loss: 0.0107 - acc: 0.0023 - val_loss: 0.0126 - val_acc: 0.0034\n"
     ]
    },
    {
     "data": {
      "text/plain": [
       "<keras.callbacks.History at 0x12e99b588>"
      ]
     },
     "execution_count": 121,
     "metadata": {},
     "output_type": "execute_result"
    }
   ],
   "source": [
    "model.fit(Xs_train, ys_train, validation_data=(Xs_test, ys_test), epochs=10)"
   ]
  }
 ],
 "metadata": {
  "kernelspec": {
   "display_name": "Python 3",
   "language": "python",
   "name": "python3"
  },
  "language_info": {
   "codemirror_mode": {
    "name": "ipython",
    "version": 3
   },
   "file_extension": ".py",
   "mimetype": "text/x-python",
   "name": "python",
   "nbconvert_exporter": "python",
   "pygments_lexer": "ipython3",
   "version": "3.6.2"
  }
 },
 "nbformat": 4,
 "nbformat_minor": 2
}
